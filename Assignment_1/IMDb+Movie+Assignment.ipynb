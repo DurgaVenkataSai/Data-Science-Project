{
 "cells": [
  {
   "cell_type": "code",
   "execution_count": 760,
   "metadata": {},
   "outputs": [],
   "source": [
    "# Filtering out the warnings\n",
    "\n",
    "import warnings\n",
    "\n",
    "warnings.filterwarnings('ignore')"
   ]
  },
  {
   "cell_type": "code",
   "execution_count": 761,
   "metadata": {},
   "outputs": [],
   "source": [
    "# Importing the required libraries\n",
    "\n",
    "import numpy as np\n",
    "import pandas as pd\n",
    "import seaborn as sns\n",
    "import matplotlib.pyplot as plt\n"
   ]
  },
  {
   "cell_type": "markdown",
   "metadata": {},
   "source": [
    "# <font color = blue> IMDb Movie Assignment </font>\n",
    "\n",
    "You have the data for the 100 top-rated movies from the past decade along with various pieces of information about the movie, its actors, and the voters who have rated these movies online. In this assignment, you will try to find some interesting insights into these movies and their voters, using Python."
   ]
  },
  {
   "cell_type": "markdown",
   "metadata": {},
   "source": [
    "##  Task 1: Reading the data"
   ]
  },
  {
   "cell_type": "markdown",
   "metadata": {},
   "source": [
    "- ### Subtask 1.1: Read the Movies Data.\n",
    "\n",
    "Read the movies data file provided and store it in a dataframe `movies`."
   ]
  },
  {
   "cell_type": "code",
   "execution_count": 762,
   "metadata": {},
   "outputs": [],
   "source": [
    "# Read the csv file using 'read_csv'. Please write your dataset location here.\n",
    "\n",
    "movies=pd.read_csv(\"D:/Users/703161470/Downloads/DS-Upgrad/Assignment_1/Movie+Assignment+Data.csv\")\n"
   ]
  },
  {
   "cell_type": "markdown",
   "metadata": {},
   "source": [
    "- ###  Subtask 1.2: Inspect the Dataframe\n",
    "\n",
    "Inspect the dataframe for dimensions, null-values, and summary of different numeric columns."
   ]
  },
  {
   "cell_type": "code",
   "execution_count": 763,
   "metadata": {},
   "outputs": [
    {
     "data": {
      "text/plain": [
       "(100, 62)"
      ]
     },
     "execution_count": 763,
     "metadata": {},
     "output_type": "execute_result"
    }
   ],
   "source": [
    "# Check the number of rows and columns in the dataframe\n",
    "\n",
    "movies.shape"
   ]
  },
  {
   "cell_type": "code",
   "execution_count": 764,
   "metadata": {},
   "outputs": [
    {
     "name": "stdout",
     "output_type": "stream",
     "text": [
      "<class 'pandas.core.frame.DataFrame'>\n",
      "RangeIndex: 100 entries, 0 to 99\n",
      "Data columns (total 62 columns):\n",
      " #   Column                  Non-Null Count  Dtype  \n",
      "---  ------                  --------------  -----  \n",
      " 0   Title                   100 non-null    object \n",
      " 1   title_year              100 non-null    int64  \n",
      " 2   budget                  100 non-null    int64  \n",
      " 3   Gross                   100 non-null    int64  \n",
      " 4   actor_1_name            100 non-null    object \n",
      " 5   actor_2_name            100 non-null    object \n",
      " 6   actor_3_name            100 non-null    object \n",
      " 7   actor_1_facebook_likes  100 non-null    int64  \n",
      " 8   actor_2_facebook_likes  99 non-null     float64\n",
      " 9   actor_3_facebook_likes  98 non-null     float64\n",
      " 10  IMDb_rating             100 non-null    float64\n",
      " 11  genre_1                 100 non-null    object \n",
      " 12  genre_2                 97 non-null     object \n",
      " 13  genre_3                 74 non-null     object \n",
      " 14  MetaCritic              95 non-null     float64\n",
      " 15  Runtime                 100 non-null    int64  \n",
      " 16  CVotes10                100 non-null    int64  \n",
      " 17  CVotes09                100 non-null    int64  \n",
      " 18  CVotes08                100 non-null    int64  \n",
      " 19  CVotes07                100 non-null    int64  \n",
      " 20  CVotes06                100 non-null    int64  \n",
      " 21  CVotes05                100 non-null    int64  \n",
      " 22  CVotes04                100 non-null    int64  \n",
      " 23  CVotes03                100 non-null    int64  \n",
      " 24  CVotes02                100 non-null    int64  \n",
      " 25  CVotes01                100 non-null    int64  \n",
      " 26  CVotesMale              100 non-null    int64  \n",
      " 27  CVotesFemale            100 non-null    int64  \n",
      " 28  CVotesU18               100 non-null    int64  \n",
      " 29  CVotesU18M              100 non-null    int64  \n",
      " 30  CVotesU18F              100 non-null    int64  \n",
      " 31  CVotes1829              100 non-null    int64  \n",
      " 32  CVotes1829M             100 non-null    int64  \n",
      " 33  CVotes1829F             100 non-null    int64  \n",
      " 34  CVotes3044              100 non-null    int64  \n",
      " 35  CVotes3044M             100 non-null    int64  \n",
      " 36  CVotes3044F             100 non-null    int64  \n",
      " 37  CVotes45A               100 non-null    int64  \n",
      " 38  CVotes45AM              100 non-null    int64  \n",
      " 39  CVotes45AF              100 non-null    int64  \n",
      " 40  CVotes1000              100 non-null    int64  \n",
      " 41  CVotesUS                100 non-null    int64  \n",
      " 42  CVotesnUS               100 non-null    int64  \n",
      " 43  VotesM                  100 non-null    float64\n",
      " 44  VotesF                  100 non-null    float64\n",
      " 45  VotesU18                100 non-null    float64\n",
      " 46  VotesU18M               100 non-null    float64\n",
      " 47  VotesU18F               100 non-null    float64\n",
      " 48  Votes1829               100 non-null    float64\n",
      " 49  Votes1829M              100 non-null    float64\n",
      " 50  Votes1829F              100 non-null    float64\n",
      " 51  Votes3044               100 non-null    float64\n",
      " 52  Votes3044M              100 non-null    float64\n",
      " 53  Votes3044F              100 non-null    float64\n",
      " 54  Votes45A                100 non-null    float64\n",
      " 55  Votes45AM               100 non-null    float64\n",
      " 56  Votes45AF               100 non-null    float64\n",
      " 57  Votes1000               100 non-null    float64\n",
      " 58  VotesUS                 100 non-null    float64\n",
      " 59  VotesnUS                100 non-null    float64\n",
      " 60  content_rating          100 non-null    object \n",
      " 61  Country                 100 non-null    object \n",
      "dtypes: float64(21), int64(32), object(9)\n",
      "memory usage: 48.6+ KB\n"
     ]
    }
   ],
   "source": [
    "# Check the column-wise info of the dataframe\n",
    "\n",
    "movies.info()"
   ]
  },
  {
   "cell_type": "code",
   "execution_count": 765,
   "metadata": {},
   "outputs": [
    {
     "data": {
      "text/html": [
       "<div>\n",
       "<style scoped>\n",
       "    .dataframe tbody tr th:only-of-type {\n",
       "        vertical-align: middle;\n",
       "    }\n",
       "\n",
       "    .dataframe tbody tr th {\n",
       "        vertical-align: top;\n",
       "    }\n",
       "\n",
       "    .dataframe thead th {\n",
       "        text-align: right;\n",
       "    }\n",
       "</style>\n",
       "<table border=\"1\" class=\"dataframe\">\n",
       "  <thead>\n",
       "    <tr style=\"text-align: right;\">\n",
       "      <th></th>\n",
       "      <th>title_year</th>\n",
       "      <th>budget</th>\n",
       "      <th>Gross</th>\n",
       "      <th>actor_1_facebook_likes</th>\n",
       "      <th>actor_2_facebook_likes</th>\n",
       "      <th>actor_3_facebook_likes</th>\n",
       "      <th>IMDb_rating</th>\n",
       "      <th>MetaCritic</th>\n",
       "      <th>Runtime</th>\n",
       "      <th>CVotes10</th>\n",
       "      <th>...</th>\n",
       "      <th>Votes1829F</th>\n",
       "      <th>Votes3044</th>\n",
       "      <th>Votes3044M</th>\n",
       "      <th>Votes3044F</th>\n",
       "      <th>Votes45A</th>\n",
       "      <th>Votes45AM</th>\n",
       "      <th>Votes45AF</th>\n",
       "      <th>Votes1000</th>\n",
       "      <th>VotesUS</th>\n",
       "      <th>VotesnUS</th>\n",
       "    </tr>\n",
       "  </thead>\n",
       "  <tbody>\n",
       "    <tr>\n",
       "      <th>count</th>\n",
       "      <td>100.000000</td>\n",
       "      <td>1.000000e+02</td>\n",
       "      <td>1.000000e+02</td>\n",
       "      <td>100.000000</td>\n",
       "      <td>99.000000</td>\n",
       "      <td>98.000000</td>\n",
       "      <td>100.000000</td>\n",
       "      <td>95.000000</td>\n",
       "      <td>100.000000</td>\n",
       "      <td>100.000000</td>\n",
       "      <td>...</td>\n",
       "      <td>100.000000</td>\n",
       "      <td>100.000000</td>\n",
       "      <td>100.000000</td>\n",
       "      <td>100.000000</td>\n",
       "      <td>100.00000</td>\n",
       "      <td>100.000000</td>\n",
       "      <td>100.000000</td>\n",
       "      <td>100.000000</td>\n",
       "      <td>100.000000</td>\n",
       "      <td>100.000000</td>\n",
       "    </tr>\n",
       "    <tr>\n",
       "      <th>mean</th>\n",
       "      <td>2012.820000</td>\n",
       "      <td>7.838400e+07</td>\n",
       "      <td>1.468679e+08</td>\n",
       "      <td>13407.270000</td>\n",
       "      <td>7377.303030</td>\n",
       "      <td>3002.153061</td>\n",
       "      <td>7.883000</td>\n",
       "      <td>78.252632</td>\n",
       "      <td>126.420000</td>\n",
       "      <td>73212.160000</td>\n",
       "      <td>...</td>\n",
       "      <td>7.982000</td>\n",
       "      <td>7.732000</td>\n",
       "      <td>7.723000</td>\n",
       "      <td>7.780000</td>\n",
       "      <td>7.65100</td>\n",
       "      <td>7.624000</td>\n",
       "      <td>7.770000</td>\n",
       "      <td>7.274000</td>\n",
       "      <td>7.958000</td>\n",
       "      <td>7.793000</td>\n",
       "    </tr>\n",
       "    <tr>\n",
       "      <th>std</th>\n",
       "      <td>1.919491</td>\n",
       "      <td>7.445295e+07</td>\n",
       "      <td>1.454004e+08</td>\n",
       "      <td>10649.037862</td>\n",
       "      <td>13471.568216</td>\n",
       "      <td>6940.301133</td>\n",
       "      <td>0.247433</td>\n",
       "      <td>9.122066</td>\n",
       "      <td>19.050799</td>\n",
       "      <td>82669.594746</td>\n",
       "      <td>...</td>\n",
       "      <td>0.321417</td>\n",
       "      <td>0.251814</td>\n",
       "      <td>0.260479</td>\n",
       "      <td>0.282128</td>\n",
       "      <td>0.21485</td>\n",
       "      <td>0.213258</td>\n",
       "      <td>0.301344</td>\n",
       "      <td>0.361987</td>\n",
       "      <td>0.232327</td>\n",
       "      <td>0.264099</td>\n",
       "    </tr>\n",
       "    <tr>\n",
       "      <th>min</th>\n",
       "      <td>2010.000000</td>\n",
       "      <td>3.000000e+06</td>\n",
       "      <td>2.238380e+05</td>\n",
       "      <td>39.000000</td>\n",
       "      <td>12.000000</td>\n",
       "      <td>0.000000</td>\n",
       "      <td>7.500000</td>\n",
       "      <td>62.000000</td>\n",
       "      <td>91.000000</td>\n",
       "      <td>6420.000000</td>\n",
       "      <td>...</td>\n",
       "      <td>7.300000</td>\n",
       "      <td>7.300000</td>\n",
       "      <td>7.200000</td>\n",
       "      <td>7.200000</td>\n",
       "      <td>7.10000</td>\n",
       "      <td>7.100000</td>\n",
       "      <td>7.000000</td>\n",
       "      <td>6.400000</td>\n",
       "      <td>7.500000</td>\n",
       "      <td>7.300000</td>\n",
       "    </tr>\n",
       "    <tr>\n",
       "      <th>25%</th>\n",
       "      <td>2011.000000</td>\n",
       "      <td>1.575000e+07</td>\n",
       "      <td>4.199752e+07</td>\n",
       "      <td>1000.000000</td>\n",
       "      <td>580.000000</td>\n",
       "      <td>319.750000</td>\n",
       "      <td>7.700000</td>\n",
       "      <td>72.000000</td>\n",
       "      <td>114.750000</td>\n",
       "      <td>30587.000000</td>\n",
       "      <td>...</td>\n",
       "      <td>7.700000</td>\n",
       "      <td>7.600000</td>\n",
       "      <td>7.500000</td>\n",
       "      <td>7.600000</td>\n",
       "      <td>7.50000</td>\n",
       "      <td>7.475000</td>\n",
       "      <td>7.500000</td>\n",
       "      <td>7.100000</td>\n",
       "      <td>7.800000</td>\n",
       "      <td>7.600000</td>\n",
       "    </tr>\n",
       "    <tr>\n",
       "      <th>50%</th>\n",
       "      <td>2013.000000</td>\n",
       "      <td>4.225000e+07</td>\n",
       "      <td>1.070266e+08</td>\n",
       "      <td>13000.000000</td>\n",
       "      <td>1000.000000</td>\n",
       "      <td>626.500000</td>\n",
       "      <td>7.800000</td>\n",
       "      <td>78.000000</td>\n",
       "      <td>124.000000</td>\n",
       "      <td>54900.500000</td>\n",
       "      <td>...</td>\n",
       "      <td>8.000000</td>\n",
       "      <td>7.700000</td>\n",
       "      <td>7.700000</td>\n",
       "      <td>7.800000</td>\n",
       "      <td>7.65000</td>\n",
       "      <td>7.600000</td>\n",
       "      <td>7.800000</td>\n",
       "      <td>7.300000</td>\n",
       "      <td>7.950000</td>\n",
       "      <td>7.750000</td>\n",
       "    </tr>\n",
       "    <tr>\n",
       "      <th>75%</th>\n",
       "      <td>2014.000000</td>\n",
       "      <td>1.500000e+08</td>\n",
       "      <td>2.107548e+08</td>\n",
       "      <td>20000.000000</td>\n",
       "      <td>11000.000000</td>\n",
       "      <td>1000.000000</td>\n",
       "      <td>8.100000</td>\n",
       "      <td>83.500000</td>\n",
       "      <td>136.250000</td>\n",
       "      <td>80639.000000</td>\n",
       "      <td>...</td>\n",
       "      <td>8.200000</td>\n",
       "      <td>7.900000</td>\n",
       "      <td>7.900000</td>\n",
       "      <td>8.000000</td>\n",
       "      <td>7.80000</td>\n",
       "      <td>7.800000</td>\n",
       "      <td>7.925000</td>\n",
       "      <td>7.500000</td>\n",
       "      <td>8.100000</td>\n",
       "      <td>7.925000</td>\n",
       "    </tr>\n",
       "    <tr>\n",
       "      <th>max</th>\n",
       "      <td>2016.000000</td>\n",
       "      <td>2.600000e+08</td>\n",
       "      <td>9.366622e+08</td>\n",
       "      <td>35000.000000</td>\n",
       "      <td>96000.000000</td>\n",
       "      <td>46000.000000</td>\n",
       "      <td>8.800000</td>\n",
       "      <td>100.000000</td>\n",
       "      <td>180.000000</td>\n",
       "      <td>584839.000000</td>\n",
       "      <td>...</td>\n",
       "      <td>8.800000</td>\n",
       "      <td>8.700000</td>\n",
       "      <td>8.700000</td>\n",
       "      <td>8.500000</td>\n",
       "      <td>8.10000</td>\n",
       "      <td>8.100000</td>\n",
       "      <td>8.500000</td>\n",
       "      <td>8.200000</td>\n",
       "      <td>8.700000</td>\n",
       "      <td>8.800000</td>\n",
       "    </tr>\n",
       "  </tbody>\n",
       "</table>\n",
       "<p>8 rows × 53 columns</p>\n",
       "</div>"
      ],
      "text/plain": [
       "        title_year        budget         Gross  actor_1_facebook_likes  \\\n",
       "count   100.000000  1.000000e+02  1.000000e+02              100.000000   \n",
       "mean   2012.820000  7.838400e+07  1.468679e+08            13407.270000   \n",
       "std       1.919491  7.445295e+07  1.454004e+08            10649.037862   \n",
       "min    2010.000000  3.000000e+06  2.238380e+05               39.000000   \n",
       "25%    2011.000000  1.575000e+07  4.199752e+07             1000.000000   \n",
       "50%    2013.000000  4.225000e+07  1.070266e+08            13000.000000   \n",
       "75%    2014.000000  1.500000e+08  2.107548e+08            20000.000000   \n",
       "max    2016.000000  2.600000e+08  9.366622e+08            35000.000000   \n",
       "\n",
       "       actor_2_facebook_likes  actor_3_facebook_likes  IMDb_rating  \\\n",
       "count               99.000000               98.000000   100.000000   \n",
       "mean              7377.303030             3002.153061     7.883000   \n",
       "std              13471.568216             6940.301133     0.247433   \n",
       "min                 12.000000                0.000000     7.500000   \n",
       "25%                580.000000              319.750000     7.700000   \n",
       "50%               1000.000000              626.500000     7.800000   \n",
       "75%              11000.000000             1000.000000     8.100000   \n",
       "max              96000.000000            46000.000000     8.800000   \n",
       "\n",
       "       MetaCritic     Runtime       CVotes10  ...  Votes1829F   Votes3044  \\\n",
       "count   95.000000  100.000000     100.000000  ...  100.000000  100.000000   \n",
       "mean    78.252632  126.420000   73212.160000  ...    7.982000    7.732000   \n",
       "std      9.122066   19.050799   82669.594746  ...    0.321417    0.251814   \n",
       "min     62.000000   91.000000    6420.000000  ...    7.300000    7.300000   \n",
       "25%     72.000000  114.750000   30587.000000  ...    7.700000    7.600000   \n",
       "50%     78.000000  124.000000   54900.500000  ...    8.000000    7.700000   \n",
       "75%     83.500000  136.250000   80639.000000  ...    8.200000    7.900000   \n",
       "max    100.000000  180.000000  584839.000000  ...    8.800000    8.700000   \n",
       "\n",
       "       Votes3044M  Votes3044F   Votes45A   Votes45AM   Votes45AF   Votes1000  \\\n",
       "count  100.000000  100.000000  100.00000  100.000000  100.000000  100.000000   \n",
       "mean     7.723000    7.780000    7.65100    7.624000    7.770000    7.274000   \n",
       "std      0.260479    0.282128    0.21485    0.213258    0.301344    0.361987   \n",
       "min      7.200000    7.200000    7.10000    7.100000    7.000000    6.400000   \n",
       "25%      7.500000    7.600000    7.50000    7.475000    7.500000    7.100000   \n",
       "50%      7.700000    7.800000    7.65000    7.600000    7.800000    7.300000   \n",
       "75%      7.900000    8.000000    7.80000    7.800000    7.925000    7.500000   \n",
       "max      8.700000    8.500000    8.10000    8.100000    8.500000    8.200000   \n",
       "\n",
       "          VotesUS    VotesnUS  \n",
       "count  100.000000  100.000000  \n",
       "mean     7.958000    7.793000  \n",
       "std      0.232327    0.264099  \n",
       "min      7.500000    7.300000  \n",
       "25%      7.800000    7.600000  \n",
       "50%      7.950000    7.750000  \n",
       "75%      8.100000    7.925000  \n",
       "max      8.700000    8.800000  \n",
       "\n",
       "[8 rows x 53 columns]"
      ]
     },
     "execution_count": 765,
     "metadata": {},
     "output_type": "execute_result"
    }
   ],
   "source": [
    "# Check the summary for the numeric columns \n",
    "\n",
    "movies.describe()"
   ]
  },
  {
   "cell_type": "markdown",
   "metadata": {},
   "source": [
    "## Task 2: Data Analysis\n",
    "\n",
    "Now that we have loaded the dataset and inspected it, we see that most of the data is in place. As of now, no data cleaning is required, so let's start with some data manipulation, analysis, and visualisation to get various insights about the data. "
   ]
  },
  {
   "cell_type": "markdown",
   "metadata": {},
   "source": [
    "-  ###  Subtask 2.1: Reduce those Digits!\n",
    "\n",
    "These numbers in the `budget` and `gross` are too big, compromising its readability. Let's convert the unit of the `budget` and `gross` columns from `$` to `million $` first."
   ]
  },
  {
   "cell_type": "code",
   "execution_count": 766,
   "metadata": {},
   "outputs": [],
   "source": [
    "# Divide the 'gross' and 'budget' columns by 1000000 to convert '$' to 'million $'\n",
    "\n",
    "movies.Gross=movies.Gross.apply(lambda x: float(x/1000000) )\n",
    "movies.budget=movies.budget.apply(lambda x: float(x/1000000) )\n"
   ]
  },
  {
   "cell_type": "markdown",
   "metadata": {},
   "source": [
    "-  ###  Subtask 2.2: Let's Talk Profit!\n",
    "\n",
    "    1. Create a new column called `profit` which contains the difference of the two columns: `gross` and `budget`.\n",
    "    2. Sort the dataframe using the `profit` column as reference.\n",
    "    3. Extract the top ten profiting movies in descending order and store them in a new dataframe - `top10`.\n",
    "    4. Plot a scatter or a joint plot between the columns `budget` and `profit` and write a few words on what you observed.\n",
    "    5. Extract the movies with a negative profit and store them in a new dataframe - `neg_profit`"
   ]
  },
  {
   "cell_type": "code",
   "execution_count": 767,
   "metadata": {},
   "outputs": [],
   "source": [
    "# Create the new column named 'profit' by subtracting the 'budget' column from the 'gross' column\n",
    "\n",
    "movies[\"profit\"] = movies.Gross -movies.budget\n"
   ]
  },
  {
   "cell_type": "code",
   "execution_count": 768,
   "metadata": {},
   "outputs": [],
   "source": [
    "# Sort the dataframe with the 'profit' column as reference using the 'sort_values' function. Make sure to set the argument\n",
    "#'ascending' to 'False'\n",
    "\n",
    "movies=movies.sort_values(by=\"profit\",ascending=False)"
   ]
  },
  {
   "cell_type": "code",
   "execution_count": 769,
   "metadata": {},
   "outputs": [],
   "source": [
    "# Get the top 10 profitable movies by using position based indexing. Specify the rows till 10 (0-9)\n",
    "\n",
    "top10=movies[0:9]"
   ]
  },
  {
   "cell_type": "code",
   "execution_count": 770,
   "metadata": {
    "scrolled": true
   },
   "outputs": [
    {
     "data": {
      "image/png": "[encoded data removed]",
      "text/plain": [
       "<Figure size 432x288 with 1 Axes>"
      ]
     },
     "metadata": {
      "needs_background": "light"
     },
     "output_type": "display_data"
    }
   ],
   "source": [
    "#Plot profit vs budget\n",
    "plt.title(\"Profit vs Budget\")\n",
    "sns.scatterplot(data=movies,x=\"profit\",y=\"budget\")\n",
    "plt.show()"
   ]
  },
  {
   "cell_type": "markdown",
   "metadata": {},
   "source": [
    "Observation : There are more movies with budget less then or equal to $50M with profits, when drilling down by 50 buckets. "
   ]
  },
  {
   "cell_type": "markdown",
   "metadata": {},
   "source": [
    "The dataset contains the 100 best performing movies from the year 2010 to 2016. However scatter plot tells a different story. You can notice that there are some movies with negative profit. Although good movies do incur losses, but there appear to be quite a few movie with losses. What can be the reason behind this? Lets have a closer look at this by finding the movies with negative profit."
   ]
  },
  {
   "cell_type": "code",
   "execution_count": 771,
   "metadata": {},
   "outputs": [],
   "source": [
    "#Find the movies with negative profit\n",
    "\n",
    "neg_profit = movies[movies.profit<0]\n"
   ]
  },
  {
   "cell_type": "markdown",
   "metadata": {},
   "source": [
    "**`Checkpoint 1:`** Can you spot the movie `Tangled` in the dataset? You may be aware of the movie 'Tangled'. Although its one of the highest grossing movies of all time, it has negative profit as per this result. If you cross check the gross values of this movie (link: https://www.imdb.com/title/tt0398286/), you can see that the gross in the dataset accounts only for the domestic gross and not the worldwide gross. This is true for may other movies also in the list."
   ]
  },
  {
   "cell_type": "markdown",
   "metadata": {},
   "source": [
    "- ### Subtask 2.3: The General Audience and the Critics\n",
    "\n",
    "You might have noticed the column `MetaCritic` in this dataset. This is a very popular website where an average score is determined through the scores given by the top-rated critics. Second, you also have another column `IMDb_rating` which tells you the IMDb rating of a movie. This rating is determined by taking the average of hundred-thousands of ratings from the general audience. \n",
    "\n",
    "As a part of this subtask, you are required to find out the highest rated movies which have been liked by critics and audiences alike.\n",
    "1. Firstly you will notice that the `MetaCritic` score is on a scale of `100` whereas the `IMDb_rating` is on a scale of 10. First convert the `MetaCritic` column to a scale of 10.\n",
    "2. Now, to find out the movies which have been liked by both critics and audiences alike and also have a high rating overall, you need to -\n",
    "    - Create a new column `Avg_rating` which will have the average of the `MetaCritic` and `Rating` columns\n",
    "    - Retain only the movies in which the absolute difference(using abs() function) between the `IMDb_rating` and `Metacritic` columns is less than 0.5. Refer to this link to know how abs() funtion works - https://www.geeksforgeeks.org/abs-in-python/ .\n",
    "    - Sort these values in a descending order of `Avg_rating` and retain only the movies with a rating equal to higher than `8` and store these movies in a new dataframe `UniversalAcclaim`.\n",
    "    "
   ]
  },
  {
   "cell_type": "code",
   "execution_count": 772,
   "metadata": {},
   "outputs": [],
   "source": [
    "# Change the scale of MetaCritic\n",
    "\n",
    "movies.MetaCritic=movies.MetaCritic.apply(lambda x: float(x/10))"
   ]
  },
  {
   "cell_type": "code",
   "execution_count": 773,
   "metadata": {},
   "outputs": [],
   "source": [
    "# Find the average ratings\n",
    "movies[\"Avg_rating\"]=(movies.MetaCritic+movies.IMDb_rating)/2"
   ]
  },
  {
   "cell_type": "code",
   "execution_count": 774,
   "metadata": {},
   "outputs": [],
   "source": [
    "#Sort in descending order of average rating\n",
    "\n",
    "movies =movies.sort_values(by=\"Avg_rating\",ascending=False)"
   ]
  },
  {
   "cell_type": "code",
   "execution_count": 775,
   "metadata": {},
   "outputs": [
    {
     "data": {
      "text/plain": [
       "(100, 64)"
      ]
     },
     "execution_count": 775,
     "metadata": {},
     "output_type": "execute_result"
    }
   ],
   "source": [
    "movies.shape"
   ]
  },
  {
   "cell_type": "code",
   "execution_count": 776,
   "metadata": {},
   "outputs": [],
   "source": [
    "# Find the movies with metacritic-rating < 0.5 and also with the average rating of >8\n",
    "\n",
    "UniversalAcclaim=movies[(abs(movies.MetaCritic - movies.IMDb_rating) < 0.5 ) & (movies.Avg_rating > 8)]\n"
   ]
  },
  {
   "cell_type": "markdown",
   "metadata": {},
   "source": [
    "**`Checkpoint 2:`** Can you spot a `Star Wars` movie in your final dataset?"
   ]
  },
  {
   "cell_type": "markdown",
   "metadata": {},
   "source": [
    "- ### Subtask 2.4: Find the Most Popular Trios - I\n",
    "\n",
    "You're a producer looking to make a blockbuster movie. There will primarily be three lead roles in your movie and you wish to cast the most popular actors for it. Now, since you don't want to take a risk, you will cast a trio which has already acted in together in a movie before. The metric that you've chosen to check the popularity is the Facebook likes of each of these actors.\n",
    "\n",
    "The dataframe has three columns to help you out for the same, viz. `actor_1_facebook_likes`, `actor_2_facebook_likes`, and `actor_3_facebook_likes`. Your objective is to find the trios which has the most number of Facebook likes combined. That is, the sum of `actor_1_facebook_likes`, `actor_2_facebook_likes` and `actor_3_facebook_likes` should be maximum.\n",
    "Find out the top 5 popular trios, and output their names in a list.\n"
   ]
  },
  {
   "cell_type": "code",
   "execution_count": 777,
   "metadata": {},
   "outputs": [],
   "source": [
    "# Write your code here \n",
    "trios_1=movies[~((movies.actor_2_facebook_likes.isna() ) | (movies.actor_3_facebook_likes.isna()))]\n",
    "trios_1[\"Total_Fb_likes\"] = trios_1.actor_1_facebook_likes +trios_1.actor_2_facebook_likes + trios_1.actor_3_facebook_likes\n",
    "trios_1.drop_duplicates(keep='last',inplace=True)\n",
    "trios_1=trios_1.sort_values(by=\"Total_Fb_likes\",ascending=False)\n",
    "\n",
    "top5_trios=trios_1.iloc[0:5,4:7].values.tolist()"
   ]
  },
  {
   "cell_type": "code",
   "execution_count": 778,
   "metadata": {},
   "outputs": [
    {
     "data": {
      "text/plain": [
       "[['Dev Patel', 'Nicole Kidman', 'Rooney Mara'],\n",
       " ['Leonardo DiCaprio', 'Tom Hardy', 'Joseph Gordon-Levitt'],\n",
       " ['Jennifer Lawrence', 'Peter Dinklage', 'Hugh Jackman'],\n",
       " ['Casey Affleck', 'Michelle Williams ', 'Kyle Chandler'],\n",
       " ['Tom Hardy', 'Christian Bale', 'Joseph Gordon-Levitt']]"
      ]
     },
     "execution_count": 778,
     "metadata": {},
     "output_type": "execute_result"
    }
   ],
   "source": [
    "type(top5_trios)\n",
    "top5_trios\n"
   ]
  },
  {
   "cell_type": "markdown",
   "metadata": {},
   "source": [
    "- ### Subtask 2.5: Find the Most Popular Trios - II\n",
    "\n",
    "In the previous subtask you found the popular trio based on the total number of facebook likes. Let's add a small condition to it and make sure that all three actors are popular. The condition is **none of the three actors' Facebook likes should be less than half of the other two**. For example, the following is a valid combo:\n",
    "- actor_1_facebook_likes: 70000\n",
    "- actor_2_facebook_likes: 40000\n",
    "- actor_3_facebook_likes: 50000\n",
    "\n",
    "But the below one is not:\n",
    "- actor_1_facebook_likes: 70000\n",
    "- actor_2_facebook_likes: 40000\n",
    "- actor_3_facebook_likes: 30000\n",
    "\n",
    "since in this case, `actor_3_facebook_likes` is 30000, which is less than half of `actor_1_facebook_likes`.\n",
    "\n",
    "Having this condition ensures that you aren't getting any unpopular actor in your trio (since the total likes calculated in the previous question doesn't tell anything about the individual popularities of each actor in the trio.).\n",
    "\n",
    "You can do a manual inspection of the top 5 popular trios you have found in the previous subtask and check how many of those trios satisfy this condition. Also, which is the most popular trio after applying the condition above?"
   ]
  },
  {
   "cell_type": "markdown",
   "metadata": {},
   "source": [
    "**Write your answers below.**\n",
    "\n",
    "- **`No. of trios that satisfy the above condition:`** Three\n",
    "\n",
    "- **`Most popular trio after applying the condition:`** [Leonardo DiCaprio,Tom Hardy,Joseph Gordon-Levitt]"
   ]
  },
  {
   "cell_type": "markdown",
   "metadata": {},
   "source": [
    "**`Optional:`** Even though you are finding this out by a natural inspection of the dataframe, can you also achieve this through some *if-else* statements to incorporate this. You can try this out on your own time after you are done with the assignment."
   ]
  },
  {
   "cell_type": "code",
   "execution_count": 779,
   "metadata": {},
   "outputs": [],
   "source": [
    "# Your answer here (optional)\n",
    "\n"
   ]
  },
  {
   "cell_type": "markdown",
   "metadata": {},
   "source": [
    "- ### Subtask 2.6: Runtime Analysis\n",
    "\n",
    "There is a column named `Runtime` in the dataframe which primarily shows the length of the movie. It might be intersting to see how this variable this distributed. Plot a `histogram` or `distplot` of seaborn to find the `Runtime` range most of the movies fall into."
   ]
  },
  {
   "cell_type": "code",
   "execution_count": 780,
   "metadata": {},
   "outputs": [
    {
     "data": {
      "image/png": "[encoded data removed]",
      "text/plain": [
       "<Figure size 432x288 with 1 Axes>"
      ]
     },
     "metadata": {
      "needs_background": "light"
     },
     "output_type": "display_data"
    }
   ],
   "source": [
    "# Runtime histogram/density plot\n",
    "sns.distplot(movies.Runtime)\n",
    "plt.title(\"Distplot on Runtime\")\n",
    "plt.show()"
   ]
  },
  {
   "cell_type": "markdown",
   "metadata": {},
   "source": [
    "**`Checkpoint 3:`** Most of the movies appear to be sharply 2 hour-long."
   ]
  },
  {
   "cell_type": "markdown",
   "metadata": {},
   "source": [
    "- ### Subtask 2.7: R-Rated Movies\n",
    "\n",
    "Although R rated movies are restricted movies for the under 18 age group, still there are vote counts from that age group. Among all the R rated movies that have been voted by the under-18 age group, find the top 10 movies that have the highest number of votes i.e.`CVotesU18` from the `movies` dataframe. Store these in a dataframe named `PopularR`."
   ]
  },
  {
   "cell_type": "code",
   "execution_count": 781,
   "metadata": {},
   "outputs": [],
   "source": [
    "# Write your code here\n",
    "PopularR=movies[movies.content_rating == 'R'].sort_values(by=\"CVotesU18\",ascending=False).head(10) "
   ]
  },
  {
   "cell_type": "code",
   "execution_count": 782,
   "metadata": {
    "scrolled": false
   },
   "outputs": [
    {
     "data": {
      "text/html": [
       "<div>\n",
       "<style scoped>\n",
       "    .dataframe tbody tr th:only-of-type {\n",
       "        vertical-align: middle;\n",
       "    }\n",
       "\n",
       "    .dataframe tbody tr th {\n",
       "        vertical-align: top;\n",
       "    }\n",
       "\n",
       "    .dataframe thead th {\n",
       "        text-align: right;\n",
       "    }\n",
       "</style>\n",
       "<table border=\"1\" class=\"dataframe\">\n",
       "  <thead>\n",
       "    <tr style=\"text-align: right;\">\n",
       "      <th></th>\n",
       "      <th>Title</th>\n",
       "      <th>title_year</th>\n",
       "      <th>budget</th>\n",
       "      <th>Gross</th>\n",
       "      <th>actor_1_name</th>\n",
       "      <th>actor_2_name</th>\n",
       "      <th>actor_3_name</th>\n",
       "      <th>actor_1_facebook_likes</th>\n",
       "      <th>actor_2_facebook_likes</th>\n",
       "      <th>actor_3_facebook_likes</th>\n",
       "      <th>...</th>\n",
       "      <th>Votes45A</th>\n",
       "      <th>Votes45AM</th>\n",
       "      <th>Votes45AF</th>\n",
       "      <th>Votes1000</th>\n",
       "      <th>VotesUS</th>\n",
       "      <th>VotesnUS</th>\n",
       "      <th>content_rating</th>\n",
       "      <th>Country</th>\n",
       "      <th>profit</th>\n",
       "      <th>Avg_rating</th>\n",
       "    </tr>\n",
       "  </thead>\n",
       "  <tbody>\n",
       "    <tr>\n",
       "      <th>47</th>\n",
       "      <td>Deadpool</td>\n",
       "      <td>2016</td>\n",
       "      <td>58.0</td>\n",
       "      <td>363.024263</td>\n",
       "      <td>Ryan Reynolds</td>\n",
       "      <td>Ed Skrein</td>\n",
       "      <td>Stefan Kapicic</td>\n",
       "      <td>16000</td>\n",
       "      <td>805.0</td>\n",
       "      <td>361.0</td>\n",
       "      <td>...</td>\n",
       "      <td>7.8</td>\n",
       "      <td>7.8</td>\n",
       "      <td>7.9</td>\n",
       "      <td>7.3</td>\n",
       "      <td>8.1</td>\n",
       "      <td>7.9</td>\n",
       "      <td>R</td>\n",
       "      <td>USA</td>\n",
       "      <td>305.024263</td>\n",
       "      <td>7.25</td>\n",
       "    </tr>\n",
       "    <tr>\n",
       "      <th>36</th>\n",
       "      <td>The Wolf of Wall Street</td>\n",
       "      <td>2013</td>\n",
       "      <td>100.0</td>\n",
       "      <td>116.866727</td>\n",
       "      <td>Leonardo DiCaprio</td>\n",
       "      <td>Matthew McConaughey</td>\n",
       "      <td>Jon Favreau</td>\n",
       "      <td>29000</td>\n",
       "      <td>11000.0</td>\n",
       "      <td>4000.0</td>\n",
       "      <td>...</td>\n",
       "      <td>7.6</td>\n",
       "      <td>7.6</td>\n",
       "      <td>7.5</td>\n",
       "      <td>7.8</td>\n",
       "      <td>8.1</td>\n",
       "      <td>8.1</td>\n",
       "      <td>R</td>\n",
       "      <td>USA</td>\n",
       "      <td>16.866727</td>\n",
       "      <td>7.85</td>\n",
       "    </tr>\n",
       "    <tr>\n",
       "      <th>35</th>\n",
       "      <td>Django Unchained</td>\n",
       "      <td>2012</td>\n",
       "      <td>100.0</td>\n",
       "      <td>162.804648</td>\n",
       "      <td>Leonardo DiCaprio</td>\n",
       "      <td>Christoph Waltz</td>\n",
       "      <td>Ato Essandoh</td>\n",
       "      <td>29000</td>\n",
       "      <td>11000.0</td>\n",
       "      <td>265.0</td>\n",
       "      <td>...</td>\n",
       "      <td>8.0</td>\n",
       "      <td>8.0</td>\n",
       "      <td>8.1</td>\n",
       "      <td>7.8</td>\n",
       "      <td>8.4</td>\n",
       "      <td>8.4</td>\n",
       "      <td>R</td>\n",
       "      <td>USA</td>\n",
       "      <td>62.804648</td>\n",
       "      <td>8.25</td>\n",
       "    </tr>\n",
       "    <tr>\n",
       "      <th>29</th>\n",
       "      <td>Mad Max: Fury Road</td>\n",
       "      <td>2015</td>\n",
       "      <td>150.0</td>\n",
       "      <td>153.629485</td>\n",
       "      <td>Tom Hardy</td>\n",
       "      <td>Charlize Theron</td>\n",
       "      <td>ZoÃ« Kravitz</td>\n",
       "      <td>27000</td>\n",
       "      <td>9000.0</td>\n",
       "      <td>943.0</td>\n",
       "      <td>...</td>\n",
       "      <td>7.5</td>\n",
       "      <td>7.5</td>\n",
       "      <td>7.2</td>\n",
       "      <td>8.0</td>\n",
       "      <td>8.2</td>\n",
       "      <td>8.0</td>\n",
       "      <td>R</td>\n",
       "      <td>Australia</td>\n",
       "      <td>3.629485</td>\n",
       "      <td>8.55</td>\n",
       "    </tr>\n",
       "    <tr>\n",
       "      <th>95</th>\n",
       "      <td>Whiplash</td>\n",
       "      <td>2014</td>\n",
       "      <td>3.3</td>\n",
       "      <td>13.092000</td>\n",
       "      <td>J.K. Simmons</td>\n",
       "      <td>Melissa Benoist</td>\n",
       "      <td>Chris Mulkey</td>\n",
       "      <td>24000</td>\n",
       "      <td>970.0</td>\n",
       "      <td>535.0</td>\n",
       "      <td>...</td>\n",
       "      <td>8.1</td>\n",
       "      <td>8.1</td>\n",
       "      <td>8.2</td>\n",
       "      <td>8.0</td>\n",
       "      <td>8.6</td>\n",
       "      <td>8.4</td>\n",
       "      <td>R</td>\n",
       "      <td>USA</td>\n",
       "      <td>9.792000</td>\n",
       "      <td>8.65</td>\n",
       "    </tr>\n",
       "    <tr>\n",
       "      <th>31</th>\n",
       "      <td>The Revenant</td>\n",
       "      <td>2015</td>\n",
       "      <td>135.0</td>\n",
       "      <td>183.635922</td>\n",
       "      <td>Leonardo DiCaprio</td>\n",
       "      <td>Tom Hardy</td>\n",
       "      <td>Lukas Haas</td>\n",
       "      <td>29000</td>\n",
       "      <td>27000.0</td>\n",
       "      <td>733.0</td>\n",
       "      <td>...</td>\n",
       "      <td>7.8</td>\n",
       "      <td>7.8</td>\n",
       "      <td>7.8</td>\n",
       "      <td>7.6</td>\n",
       "      <td>8.1</td>\n",
       "      <td>7.9</td>\n",
       "      <td>R</td>\n",
       "      <td>USA</td>\n",
       "      <td>48.635922</td>\n",
       "      <td>7.80</td>\n",
       "    </tr>\n",
       "    <tr>\n",
       "      <th>40</th>\n",
       "      <td>Shutter Island</td>\n",
       "      <td>2010</td>\n",
       "      <td>80.0</td>\n",
       "      <td>127.968405</td>\n",
       "      <td>Leonardo DiCaprio</td>\n",
       "      <td>Joseph Sikora</td>\n",
       "      <td>Nellie Sciutto</td>\n",
       "      <td>29000</td>\n",
       "      <td>223.0</td>\n",
       "      <td>163.0</td>\n",
       "      <td>...</td>\n",
       "      <td>7.5</td>\n",
       "      <td>7.4</td>\n",
       "      <td>7.6</td>\n",
       "      <td>7.6</td>\n",
       "      <td>7.8</td>\n",
       "      <td>8.1</td>\n",
       "      <td>R</td>\n",
       "      <td>USA</td>\n",
       "      <td>47.968405</td>\n",
       "      <td>7.20</td>\n",
       "    </tr>\n",
       "    <tr>\n",
       "      <th>43</th>\n",
       "      <td>Gone Girl</td>\n",
       "      <td>2014</td>\n",
       "      <td>61.0</td>\n",
       "      <td>167.735396</td>\n",
       "      <td>Patrick Fugit</td>\n",
       "      <td>Sela Ward</td>\n",
       "      <td>Emily Ratajkowski</td>\n",
       "      <td>835</td>\n",
       "      <td>812.0</td>\n",
       "      <td>625.0</td>\n",
       "      <td>...</td>\n",
       "      <td>7.7</td>\n",
       "      <td>7.7</td>\n",
       "      <td>7.7</td>\n",
       "      <td>7.6</td>\n",
       "      <td>8.1</td>\n",
       "      <td>8.1</td>\n",
       "      <td>R</td>\n",
       "      <td>USA</td>\n",
       "      <td>106.735396</td>\n",
       "      <td>8.00</td>\n",
       "    </tr>\n",
       "    <tr>\n",
       "      <th>65</th>\n",
       "      <td>The Grand Budapest Hotel</td>\n",
       "      <td>2014</td>\n",
       "      <td>25.0</td>\n",
       "      <td>59.073773</td>\n",
       "      <td>Bill Murray</td>\n",
       "      <td>Tom Wilkinson</td>\n",
       "      <td>F. Murray Abraham</td>\n",
       "      <td>13000</td>\n",
       "      <td>1000.0</td>\n",
       "      <td>670.0</td>\n",
       "      <td>...</td>\n",
       "      <td>7.8</td>\n",
       "      <td>7.8</td>\n",
       "      <td>7.9</td>\n",
       "      <td>7.7</td>\n",
       "      <td>8.1</td>\n",
       "      <td>8.0</td>\n",
       "      <td>R</td>\n",
       "      <td>USA</td>\n",
       "      <td>34.073773</td>\n",
       "      <td>8.45</td>\n",
       "    </tr>\n",
       "    <tr>\n",
       "      <th>72</th>\n",
       "      <td>Birdman or (The Unexpected Virtue of Ignorance)</td>\n",
       "      <td>2014</td>\n",
       "      <td>18.0</td>\n",
       "      <td>42.335698</td>\n",
       "      <td>Emma Stone</td>\n",
       "      <td>Naomi Watts</td>\n",
       "      <td>Merritt Wever</td>\n",
       "      <td>15000</td>\n",
       "      <td>6000.0</td>\n",
       "      <td>529.0</td>\n",
       "      <td>...</td>\n",
       "      <td>7.2</td>\n",
       "      <td>7.3</td>\n",
       "      <td>7.0</td>\n",
       "      <td>7.1</td>\n",
       "      <td>7.9</td>\n",
       "      <td>7.7</td>\n",
       "      <td>R</td>\n",
       "      <td>USA</td>\n",
       "      <td>24.335698</td>\n",
       "      <td>8.30</td>\n",
       "    </tr>\n",
       "  </tbody>\n",
       "</table>\n",
       "<p>10 rows × 64 columns</p>\n",
       "</div>"
      ],
      "text/plain": [
       "                                              Title  title_year  budget  \\\n",
       "47                                         Deadpool        2016    58.0   \n",
       "36                          The Wolf of Wall Street        2013   100.0   \n",
       "35                                 Django Unchained        2012   100.0   \n",
       "29                               Mad Max: Fury Road        2015   150.0   \n",
       "95                                         Whiplash        2014     3.3   \n",
       "31                                     The Revenant        2015   135.0   \n",
       "40                                   Shutter Island        2010    80.0   \n",
       "43                                        Gone Girl        2014    61.0   \n",
       "65                         The Grand Budapest Hotel        2014    25.0   \n",
       "72  Birdman or (The Unexpected Virtue of Ignorance)        2014    18.0   \n",
       "\n",
       "         Gross       actor_1_name         actor_2_name       actor_3_name  \\\n",
       "47  363.024263      Ryan Reynolds            Ed Skrein     Stefan Kapicic   \n",
       "36  116.866727  Leonardo DiCaprio  Matthew McConaughey        Jon Favreau   \n",
       "35  162.804648  Leonardo DiCaprio      Christoph Waltz       Ato Essandoh   \n",
       "29  153.629485          Tom Hardy      Charlize Theron       ZoÃ« Kravitz   \n",
       "95   13.092000       J.K. Simmons      Melissa Benoist       Chris Mulkey   \n",
       "31  183.635922  Leonardo DiCaprio            Tom Hardy         Lukas Haas   \n",
       "40  127.968405  Leonardo DiCaprio        Joseph Sikora     Nellie Sciutto   \n",
       "43  167.735396      Patrick Fugit            Sela Ward  Emily Ratajkowski   \n",
       "65   59.073773        Bill Murray        Tom Wilkinson  F. Murray Abraham   \n",
       "72   42.335698         Emma Stone          Naomi Watts      Merritt Wever   \n",
       "\n",
       "    actor_1_facebook_likes  actor_2_facebook_likes  actor_3_facebook_likes  \\\n",
       "47                   16000                   805.0                   361.0   \n",
       "36                   29000                 11000.0                  4000.0   \n",
       "35                   29000                 11000.0                   265.0   \n",
       "29                   27000                  9000.0                   943.0   \n",
       "95                   24000                   970.0                   535.0   \n",
       "31                   29000                 27000.0                   733.0   \n",
       "40                   29000                   223.0                   163.0   \n",
       "43                     835                   812.0                   625.0   \n",
       "65                   13000                  1000.0                   670.0   \n",
       "72                   15000                  6000.0                   529.0   \n",
       "\n",
       "    ...  Votes45A Votes45AM Votes45AF Votes1000  VotesUS  VotesnUS  \\\n",
       "47  ...       7.8       7.8       7.9       7.3      8.1       7.9   \n",
       "36  ...       7.6       7.6       7.5       7.8      8.1       8.1   \n",
       "35  ...       8.0       8.0       8.1       7.8      8.4       8.4   \n",
       "29  ...       7.5       7.5       7.2       8.0      8.2       8.0   \n",
       "95  ...       8.1       8.1       8.2       8.0      8.6       8.4   \n",
       "31  ...       7.8       7.8       7.8       7.6      8.1       7.9   \n",
       "40  ...       7.5       7.4       7.6       7.6      7.8       8.1   \n",
       "43  ...       7.7       7.7       7.7       7.6      8.1       8.1   \n",
       "65  ...       7.8       7.8       7.9       7.7      8.1       8.0   \n",
       "72  ...       7.2       7.3       7.0       7.1      7.9       7.7   \n",
       "\n",
       "    content_rating    Country      profit  Avg_rating  \n",
       "47               R        USA  305.024263        7.25  \n",
       "36               R        USA   16.866727        7.85  \n",
       "35               R        USA   62.804648        8.25  \n",
       "29               R  Australia    3.629485        8.55  \n",
       "95               R        USA    9.792000        8.65  \n",
       "31               R        USA   48.635922        7.80  \n",
       "40               R        USA   47.968405        7.20  \n",
       "43               R        USA  106.735396        8.00  \n",
       "65               R        USA   34.073773        8.45  \n",
       "72               R        USA   24.335698        8.30  \n",
       "\n",
       "[10 rows x 64 columns]"
      ]
     },
     "execution_count": 782,
     "metadata": {},
     "output_type": "execute_result"
    }
   ],
   "source": [
    "PopularR"
   ]
  },
  {
   "cell_type": "markdown",
   "metadata": {},
   "source": [
    "**`Checkpoint 4:`** Are these kids watching `Deadpool` a lot?"
   ]
  },
  {
   "cell_type": "markdown",
   "metadata": {},
   "source": [
    " "
   ]
  },
  {
   "cell_type": "markdown",
   "metadata": {},
   "source": [
    "## Task 3 : Demographic analysis\n",
    "\n",
    "If you take a look at the last columns in the dataframe, most of these are related to demographics of the voters (in the last subtask, i.e., 2.8, you made use one of these columns - CVotesU18). We also have three genre columns indicating the genres of a particular movie. We will extensively use these columns for the third and the final stage of our assignment wherein we will analyse the voters across all demographics and also see how these vary across various genres. So without further ado, let's get started with `demographic analysis`."
   ]
  },
  {
   "cell_type": "markdown",
   "metadata": {},
   "source": [
    "-  ###  Subtask 3.1 Combine the Dataframe by Genres\n",
    "\n",
    "There are 3 columns in the dataframe - `genre_1`, `genre_2`, and `genre_3`. As a part of this subtask, you need to aggregate a few values over these 3 columns. \n",
    "1. First create a new dataframe `df_by_genre` that contains `genre_1`, `genre_2`, and `genre_3` and all the columns related to **CVotes/Votes** from the `movies` data frame. There are 47 columns to be extracted in total.\n",
    "2. Now, Add a column called `cnt` to the dataframe `df_by_genre` and initialize it to one. You will realise the use of this column by the end of this subtask.\n",
    "3. First group the dataframe `df_by_genre` by `genre_1` and find the sum of all the numeric columns such as `cnt`, columns related to CVotes and Votes columns and store it in a dataframe `df_by_g1`.\n",
    "4. Perform the same operation for `genre_2` and `genre_3` and store it dataframes `df_by_g2` and `df_by_g3` respectively. \n",
    "5. Now that you have 3 dataframes performed by grouping over `genre_1`, `genre_2`, and `genre_3` separately, it's time to combine them. For this, add the three dataframes and store it in a new dataframe `df_add`, so that the corresponding values of Votes/CVotes get added for each genre.There is a function called `add()` in pandas which lets you do this. You can refer to this link to see how this function works. https://pandas.pydata.org/pandas-docs/version/0.23.4/generated/pandas.DataFrame.add.html\n",
    "6. The column `cnt` on aggregation has basically kept the track of the number of occurences of each genre.Subset the genres that have atleast 10 movies into a new dataframe `genre_top10` based on the `cnt` column value.\n",
    "7. Now, take the mean of all the numeric columns by dividing them with the column value `cnt` and store it back to the same dataframe. We will be using this dataframe for further analysis in this task unless it is explicitly mentioned to use the dataframe `movies`.\n",
    "8. Since the number of votes can't be a fraction, type cast all the CVotes related columns to integers. Also, round off all the Votes related columns upto two digits after the decimal point.\n"
   ]
  },
  {
   "cell_type": "code",
   "execution_count": 783,
   "metadata": {},
   "outputs": [],
   "source": [
    "# Create the dataframe df_by_genre\n",
    "\n",
    "df_by_genre=movies.loc[:,list(movies.columns[11:14])+list(movies.columns[16:60])]"
   ]
  },
  {
   "cell_type": "code",
   "execution_count": 784,
   "metadata": {},
   "outputs": [],
   "source": [
    "# Create a column cnt and initialize it to 1\n",
    "\n",
    "df_by_genre['cnt']=1"
   ]
  },
  {
   "cell_type": "code",
   "execution_count": 785,
   "metadata": {},
   "outputs": [],
   "source": [
    "# Group the movies by individual genres\n",
    "\n",
    "df_by_g1 = df_by_genre.groupby(by=\"genre_1\").sum()\n",
    "df_by_g2 = df_by_genre.groupby(by=\"genre_2\").sum()\n",
    "df_by_g3 = df_by_genre.groupby(by=\"genre_3\").sum()\n",
    "\n"
   ]
  },
  {
   "cell_type": "code",
   "execution_count": 786,
   "metadata": {},
   "outputs": [],
   "source": [
    "# Add the grouped data frames and store it in a new data frame\n",
    "\n",
    "df_add =df_by_g1.add(df_by_g2,axis=0,fill_value=0).add(df_by_g3 ,axis=0,fill_value=0)"
   ]
  },
  {
   "cell_type": "code",
   "execution_count": 787,
   "metadata": {},
   "outputs": [],
   "source": [
    "# Extract genres with atleast 10 occurences\n",
    "\n",
    "genre_top10 = df_add[df_add.cnt>10].head(10).sort_values(by=\"cnt\",ascending=False)\n",
    "#genre_top10.index.name=\"genres\""
   ]
  },
  {
   "cell_type": "code",
   "execution_count": 788,
   "metadata": {
    "scrolled": false
   },
   "outputs": [],
   "source": [
    "# Take the mean for every column by dividing with cnt \n",
    "\n",
    "#for x in genre_top10.index:\n",
    "#    genre_top10.loc[x,list(genre_top10.columns[:-1])] = genre_top10.loc[x,list(genre_top10.columns[:-1])]/genre_top10.loc[x,\"cnt\"]\n",
    "\n",
    "genre_top10.iloc[:,:-1]=genre_top10.iloc[:,:-1].divide(genre_top10['cnt'],axis=0)"
   ]
  },
  {
   "cell_type": "code",
   "execution_count": 789,
   "metadata": {},
   "outputs": [
    {
     "data": {
      "text/html": [
       "<div>\n",
       "<style scoped>\n",
       "    .dataframe tbody tr th:only-of-type {\n",
       "        vertical-align: middle;\n",
       "    }\n",
       "\n",
       "    .dataframe tbody tr th {\n",
       "        vertical-align: top;\n",
       "    }\n",
       "\n",
       "    .dataframe thead th {\n",
       "        text-align: right;\n",
       "    }\n",
       "</style>\n",
       "<table border=\"1\" class=\"dataframe\">\n",
       "  <thead>\n",
       "    <tr style=\"text-align: right;\">\n",
       "      <th></th>\n",
       "      <th>CVotes10</th>\n",
       "      <th>CVotes09</th>\n",
       "      <th>CVotes08</th>\n",
       "      <th>CVotes07</th>\n",
       "      <th>CVotes06</th>\n",
       "      <th>CVotes05</th>\n",
       "      <th>CVotes04</th>\n",
       "      <th>CVotes03</th>\n",
       "      <th>CVotes02</th>\n",
       "      <th>CVotes01</th>\n",
       "      <th>...</th>\n",
       "      <th>Votes3044</th>\n",
       "      <th>Votes3044M</th>\n",
       "      <th>Votes3044F</th>\n",
       "      <th>Votes45A</th>\n",
       "      <th>Votes45AM</th>\n",
       "      <th>Votes45AF</th>\n",
       "      <th>Votes1000</th>\n",
       "      <th>VotesUS</th>\n",
       "      <th>VotesnUS</th>\n",
       "      <th>cnt</th>\n",
       "    </tr>\n",
       "  </thead>\n",
       "  <tbody>\n",
       "    <tr>\n",
       "      <th>Drama</th>\n",
       "      <td>52375.969231</td>\n",
       "      <td>75928.846154</td>\n",
       "      <td>109339.276923</td>\n",
       "      <td>66456.923077</td>\n",
       "      <td>23528.553846</td>\n",
       "      <td>8497.107692</td>\n",
       "      <td>3622.692308</td>\n",
       "      <td>2078.861538</td>\n",
       "      <td>1449.000000</td>\n",
       "      <td>3250.892308</td>\n",
       "      <td>...</td>\n",
       "      <td>7.712308</td>\n",
       "      <td>7.709231</td>\n",
       "      <td>7.720000</td>\n",
       "      <td>7.643077</td>\n",
       "      <td>7.620000</td>\n",
       "      <td>7.741538</td>\n",
       "      <td>7.223077</td>\n",
       "      <td>7.936923</td>\n",
       "      <td>7.784615</td>\n",
       "      <td>65.0</td>\n",
       "    </tr>\n",
       "    <tr>\n",
       "      <th>Adventure</th>\n",
       "      <td>94596.289474</td>\n",
       "      <td>105636.631579</td>\n",
       "      <td>138482.315789</td>\n",
       "      <td>86367.921053</td>\n",
       "      <td>31896.710526</td>\n",
       "      <td>11551.842105</td>\n",
       "      <td>4817.631579</td>\n",
       "      <td>2718.894737</td>\n",
       "      <td>1835.184211</td>\n",
       "      <td>4575.210526</td>\n",
       "      <td>...</td>\n",
       "      <td>7.752632</td>\n",
       "      <td>7.728947</td>\n",
       "      <td>7.873684</td>\n",
       "      <td>7.676316</td>\n",
       "      <td>7.642105</td>\n",
       "      <td>7.842105</td>\n",
       "      <td>7.384211</td>\n",
       "      <td>7.986842</td>\n",
       "      <td>7.794737</td>\n",
       "      <td>38.0</td>\n",
       "    </tr>\n",
       "    <tr>\n",
       "      <th>Action</th>\n",
       "      <td>102144.096774</td>\n",
       "      <td>114433.193548</td>\n",
       "      <td>150895.322581</td>\n",
       "      <td>94262.129032</td>\n",
       "      <td>34688.838710</td>\n",
       "      <td>12693.032258</td>\n",
       "      <td>5386.129032</td>\n",
       "      <td>3064.645161</td>\n",
       "      <td>2115.258065</td>\n",
       "      <td>5524.096774</td>\n",
       "      <td>...</td>\n",
       "      <td>7.741935</td>\n",
       "      <td>7.725806</td>\n",
       "      <td>7.800000</td>\n",
       "      <td>7.645161</td>\n",
       "      <td>7.625806</td>\n",
       "      <td>7.754839</td>\n",
       "      <td>7.296774</td>\n",
       "      <td>7.987097</td>\n",
       "      <td>7.761290</td>\n",
       "      <td>31.0</td>\n",
       "    </tr>\n",
       "    <tr>\n",
       "      <th>Comedy</th>\n",
       "      <td>60157.217391</td>\n",
       "      <td>77173.347826</td>\n",
       "      <td>108993.521739</td>\n",
       "      <td>69176.913043</td>\n",
       "      <td>26099.434783</td>\n",
       "      <td>9863.130435</td>\n",
       "      <td>4237.782609</td>\n",
       "      <td>2444.260870</td>\n",
       "      <td>1712.652174</td>\n",
       "      <td>3842.043478</td>\n",
       "      <td>...</td>\n",
       "      <td>7.713043</td>\n",
       "      <td>7.713043</td>\n",
       "      <td>7.752174</td>\n",
       "      <td>7.608696</td>\n",
       "      <td>7.595652</td>\n",
       "      <td>7.700000</td>\n",
       "      <td>7.191304</td>\n",
       "      <td>7.939130</td>\n",
       "      <td>7.778261</td>\n",
       "      <td>23.0</td>\n",
       "    </tr>\n",
       "    <tr>\n",
       "      <th>Biography</th>\n",
       "      <td>47333.500000</td>\n",
       "      <td>77867.111111</td>\n",
       "      <td>123948.777778</td>\n",
       "      <td>74054.444444</td>\n",
       "      <td>23644.166667</td>\n",
       "      <td>7702.666667</td>\n",
       "      <td>2984.333333</td>\n",
       "      <td>1639.444444</td>\n",
       "      <td>1145.166667</td>\n",
       "      <td>2849.833333</td>\n",
       "      <td>...</td>\n",
       "      <td>7.727778</td>\n",
       "      <td>7.716667</td>\n",
       "      <td>7.766667</td>\n",
       "      <td>7.694444</td>\n",
       "      <td>7.661111</td>\n",
       "      <td>7.872222</td>\n",
       "      <td>7.227778</td>\n",
       "      <td>7.927778</td>\n",
       "      <td>7.772222</td>\n",
       "      <td>18.0</td>\n",
       "    </tr>\n",
       "    <tr>\n",
       "      <th>Sci-Fi</th>\n",
       "      <td>136781.411765</td>\n",
       "      <td>148873.823529</td>\n",
       "      <td>176646.705882</td>\n",
       "      <td>106005.764706</td>\n",
       "      <td>39518.294118</td>\n",
       "      <td>14951.470588</td>\n",
       "      <td>6583.823529</td>\n",
       "      <td>3876.705882</td>\n",
       "      <td>2715.941176</td>\n",
       "      <td>6731.470588</td>\n",
       "      <td>...</td>\n",
       "      <td>7.858824</td>\n",
       "      <td>7.852941</td>\n",
       "      <td>7.835294</td>\n",
       "      <td>7.711765</td>\n",
       "      <td>7.694118</td>\n",
       "      <td>7.735294</td>\n",
       "      <td>7.523529</td>\n",
       "      <td>8.088235</td>\n",
       "      <td>7.882353</td>\n",
       "      <td>17.0</td>\n",
       "    </tr>\n",
       "    <tr>\n",
       "      <th>Romance</th>\n",
       "      <td>42304.538462</td>\n",
       "      <td>53037.846154</td>\n",
       "      <td>82252.307692</td>\n",
       "      <td>54833.923077</td>\n",
       "      <td>21637.615385</td>\n",
       "      <td>8530.846154</td>\n",
       "      <td>3762.538462</td>\n",
       "      <td>2130.615385</td>\n",
       "      <td>1476.923077</td>\n",
       "      <td>3082.692308</td>\n",
       "      <td>...</td>\n",
       "      <td>7.607692</td>\n",
       "      <td>7.607692</td>\n",
       "      <td>7.661538</td>\n",
       "      <td>7.523077</td>\n",
       "      <td>7.500000</td>\n",
       "      <td>7.607692</td>\n",
       "      <td>6.915385</td>\n",
       "      <td>7.830769</td>\n",
       "      <td>7.700000</td>\n",
       "      <td>13.0</td>\n",
       "    </tr>\n",
       "    <tr>\n",
       "      <th>Thriller</th>\n",
       "      <td>83207.769231</td>\n",
       "      <td>112730.076923</td>\n",
       "      <td>153336.769231</td>\n",
       "      <td>90446.076923</td>\n",
       "      <td>32003.538462</td>\n",
       "      <td>11534.846154</td>\n",
       "      <td>5021.615385</td>\n",
       "      <td>2918.461538</td>\n",
       "      <td>1982.076923</td>\n",
       "      <td>4433.076923</td>\n",
       "      <td>...</td>\n",
       "      <td>7.738462</td>\n",
       "      <td>7.746154</td>\n",
       "      <td>7.700000</td>\n",
       "      <td>7.661538</td>\n",
       "      <td>7.638462</td>\n",
       "      <td>7.746154</td>\n",
       "      <td>7.400000</td>\n",
       "      <td>7.930769</td>\n",
       "      <td>7.807692</td>\n",
       "      <td>13.0</td>\n",
       "    </tr>\n",
       "    <tr>\n",
       "      <th>Animation</th>\n",
       "      <td>61960.181818</td>\n",
       "      <td>72566.090909</td>\n",
       "      <td>104837.636364</td>\n",
       "      <td>65707.454545</td>\n",
       "      <td>22825.090909</td>\n",
       "      <td>7551.727273</td>\n",
       "      <td>2792.545455</td>\n",
       "      <td>1430.272727</td>\n",
       "      <td>911.454545</td>\n",
       "      <td>2290.272727</td>\n",
       "      <td>...</td>\n",
       "      <td>7.763636</td>\n",
       "      <td>7.718182</td>\n",
       "      <td>7.981818</td>\n",
       "      <td>7.681818</td>\n",
       "      <td>7.645455</td>\n",
       "      <td>7.881818</td>\n",
       "      <td>7.272727</td>\n",
       "      <td>7.963636</td>\n",
       "      <td>7.827273</td>\n",
       "      <td>11.0</td>\n",
       "    </tr>\n",
       "    <tr>\n",
       "      <th>Crime</th>\n",
       "      <td>52229.636364</td>\n",
       "      <td>87919.818182</td>\n",
       "      <td>129045.000000</td>\n",
       "      <td>74671.818182</td>\n",
       "      <td>25308.272727</td>\n",
       "      <td>8971.818182</td>\n",
       "      <td>3842.818182</td>\n",
       "      <td>2246.636364</td>\n",
       "      <td>1544.090909</td>\n",
       "      <td>3383.363636</td>\n",
       "      <td>...</td>\n",
       "      <td>7.718182</td>\n",
       "      <td>7.763636</td>\n",
       "      <td>7.609091</td>\n",
       "      <td>7.627273</td>\n",
       "      <td>7.618182</td>\n",
       "      <td>7.681818</td>\n",
       "      <td>7.390909</td>\n",
       "      <td>7.981818</td>\n",
       "      <td>7.800000</td>\n",
       "      <td>11.0</td>\n",
       "    </tr>\n",
       "  </tbody>\n",
       "</table>\n",
       "<p>10 rows × 45 columns</p>\n",
       "</div>"
      ],
      "text/plain": [
       "                CVotes10       CVotes09       CVotes08       CVotes07  \\\n",
       "Drama       52375.969231   75928.846154  109339.276923   66456.923077   \n",
       "Adventure   94596.289474  105636.631579  138482.315789   86367.921053   \n",
       "Action     102144.096774  114433.193548  150895.322581   94262.129032   \n",
       "Comedy      60157.217391   77173.347826  108993.521739   69176.913043   \n",
       "Biography   47333.500000   77867.111111  123948.777778   74054.444444   \n",
       "Sci-Fi     136781.411765  148873.823529  176646.705882  106005.764706   \n",
       "Romance     42304.538462   53037.846154   82252.307692   54833.923077   \n",
       "Thriller    83207.769231  112730.076923  153336.769231   90446.076923   \n",
       "Animation   61960.181818   72566.090909  104837.636364   65707.454545   \n",
       "Crime       52229.636364   87919.818182  129045.000000   74671.818182   \n",
       "\n",
       "               CVotes06      CVotes05     CVotes04     CVotes03     CVotes02  \\\n",
       "Drama      23528.553846   8497.107692  3622.692308  2078.861538  1449.000000   \n",
       "Adventure  31896.710526  11551.842105  4817.631579  2718.894737  1835.184211   \n",
       "Action     34688.838710  12693.032258  5386.129032  3064.645161  2115.258065   \n",
       "Comedy     26099.434783   9863.130435  4237.782609  2444.260870  1712.652174   \n",
       "Biography  23644.166667   7702.666667  2984.333333  1639.444444  1145.166667   \n",
       "Sci-Fi     39518.294118  14951.470588  6583.823529  3876.705882  2715.941176   \n",
       "Romance    21637.615385   8530.846154  3762.538462  2130.615385  1476.923077   \n",
       "Thriller   32003.538462  11534.846154  5021.615385  2918.461538  1982.076923   \n",
       "Animation  22825.090909   7551.727273  2792.545455  1430.272727   911.454545   \n",
       "Crime      25308.272727   8971.818182  3842.818182  2246.636364  1544.090909   \n",
       "\n",
       "              CVotes01  ...  Votes3044  Votes3044M  Votes3044F  Votes45A  \\\n",
       "Drama      3250.892308  ...   7.712308    7.709231    7.720000  7.643077   \n",
       "Adventure  4575.210526  ...   7.752632    7.728947    7.873684  7.676316   \n",
       "Action     5524.096774  ...   7.741935    7.725806    7.800000  7.645161   \n",
       "Comedy     3842.043478  ...   7.713043    7.713043    7.752174  7.608696   \n",
       "Biography  2849.833333  ...   7.727778    7.716667    7.766667  7.694444   \n",
       "Sci-Fi     6731.470588  ...   7.858824    7.852941    7.835294  7.711765   \n",
       "Romance    3082.692308  ...   7.607692    7.607692    7.661538  7.523077   \n",
       "Thriller   4433.076923  ...   7.738462    7.746154    7.700000  7.661538   \n",
       "Animation  2290.272727  ...   7.763636    7.718182    7.981818  7.681818   \n",
       "Crime      3383.363636  ...   7.718182    7.763636    7.609091  7.627273   \n",
       "\n",
       "           Votes45AM  Votes45AF  Votes1000   VotesUS  VotesnUS   cnt  \n",
       "Drama       7.620000   7.741538   7.223077  7.936923  7.784615  65.0  \n",
       "Adventure   7.642105   7.842105   7.384211  7.986842  7.794737  38.0  \n",
       "Action      7.625806   7.754839   7.296774  7.987097  7.761290  31.0  \n",
       "Comedy      7.595652   7.700000   7.191304  7.939130  7.778261  23.0  \n",
       "Biography   7.661111   7.872222   7.227778  7.927778  7.772222  18.0  \n",
       "Sci-Fi      7.694118   7.735294   7.523529  8.088235  7.882353  17.0  \n",
       "Romance     7.500000   7.607692   6.915385  7.830769  7.700000  13.0  \n",
       "Thriller    7.638462   7.746154   7.400000  7.930769  7.807692  13.0  \n",
       "Animation   7.645455   7.881818   7.272727  7.963636  7.827273  11.0  \n",
       "Crime       7.618182   7.681818   7.390909  7.981818  7.800000  11.0  \n",
       "\n",
       "[10 rows x 45 columns]"
      ]
     },
     "execution_count": 789,
     "metadata": {},
     "output_type": "execute_result"
    }
   ],
   "source": [
    "genre_top10"
   ]
  },
  {
   "cell_type": "code",
   "execution_count": 790,
   "metadata": {
    "scrolled": true
   },
   "outputs": [],
   "source": [
    "# Rounding off the columns of Votes to two decimals\n",
    "#for y in genre_top10.columns[genre_top10.columns.str.startswith('V')]:\n",
    "#    genre_top10.loc[:,y] = round(genre_top10.loc[:,y],2)\n",
    "\n",
    "genre_top10.iloc[:,27:44]=round(genre_top10.iloc[:,27:44],2)  "
   ]
  },
  {
   "cell_type": "code",
   "execution_count": 791,
   "metadata": {},
   "outputs": [],
   "source": [
    "# Converting CVotes to int type\n",
    "for z in genre_top10.columns[genre_top10.columns.str.startswith('CV')]:\n",
    "    genre_top10.loc[:,z] = genre_top10.loc[:,z].astype(\"int32\")\n",
    "#genre_top10.iloc[:,:27]=genre_top10.iloc[:,:27].astype(\"int32\")"
   ]
  },
  {
   "cell_type": "markdown",
   "metadata": {},
   "source": [
    "If you take a look at the final dataframe that you have gotten, you will see that you now have the complete information about all the demographic (Votes- and CVotes-related) columns across the top 10 genres. We can use this dataset to extract exciting insights about the voters!"
   ]
  },
  {
   "cell_type": "markdown",
   "metadata": {},
   "source": [
    "-  ###  Subtask 3.2: Genre Counts!\n",
    "\n",
    "Now let's derive some insights from this data frame. Make a bar chart plotting different genres vs cnt using seaborn."
   ]
  },
  {
   "cell_type": "code",
   "execution_count": 792,
   "metadata": {
    "scrolled": true
   },
   "outputs": [
    {
     "data": {
      "image/png": "[encoded data removed]",
      "text/plain": [
       "<Figure size 720x288 with 1 Axes>"
      ]
     },
     "metadata": {
      "needs_background": "light"
     },
     "output_type": "display_data"
    }
   ],
   "source": [
    "# Countplot for genres\n",
    "plt.figure(figsize=[10,4])\n",
    "sns.barplot(genre_top10.index.values,genre_top10.cnt)\n",
    "plt.title(\"Genres vs cnt\")\n",
    "plt.show()\n",
    "\n"
   ]
  },
  {
   "cell_type": "markdown",
   "metadata": {},
   "source": [
    "**`Checkpoint 5:`** Is the bar for `Drama` the tallest?"
   ]
  },
  {
   "cell_type": "markdown",
   "metadata": {},
   "source": [
    "-  ###  Subtask 3.3: Gender and Genre\n",
    "\n",
    "If you have closely looked at the Votes- and CVotes-related columns, you might have noticed the suffixes `F` and `M` indicating Female and Male. Since we have the vote counts for both males and females, across various age groups, let's now see how the popularity of genres vary between the two genders in the dataframe. \n",
    "\n",
    "1. Make the first heatmap to see how the average number of votes of males is varying across the genres. Use seaborn heatmap for this analysis. The X-axis should contain the four age-groups for males, i.e., `CVotesU18M`,`CVotes1829M`, `CVotes3044M`, and `CVotes45AM`. The Y-axis will have the genres and the annotation in the heatmap tell the average number of votes for that age-male group. \n",
    "\n",
    "2. Make the second heatmap to see how the average number of votes of females is varying across the genres. Use seaborn heatmap for this analysis. The X-axis should contain the four age-groups for females, i.e., `CVotesU18F`,`CVotes1829F`, `CVotes3044F`, and `CVotes45AF`. The Y-axis will have the genres and the annotation in the heatmap tell the average number of votes for that age-female group. \n",
    "\n",
    "3. Make sure that you plot these heatmaps side by side using `subplots` so that you can easily compare the two genders and derive insights.\n",
    "\n",
    "4. Write your any three inferences from this plot. You can make use of the previous bar plot also here for better insights.\n",
    "Refer to this link- https://seaborn.pydata.org/generated/seaborn.heatmap.html. You might have to plot something similar to the fifth chart in this page (You have to plot two such heatmaps side by side).\n",
    "\n",
    "5. Repeat subtasks 1 to 4, but now instead of taking the CVotes-related columns, you need to do the same process for the Votes-related columns. These heatmaps will show you how the two genders have rated movies across various genres.\n",
    "\n",
    "You might need the below link for formatting your heatmap.\n",
    "https://stackoverflow.com/questions/56942670/matplotlib-seaborn-first-and-last-row-cut-in-half-of-heatmap-plot\n",
    "\n",
    "-  Note : Use `genre_top10` dataframe for this subtask"
   ]
  },
  {
   "cell_type": "code",
   "execution_count": 793,
   "metadata": {},
   "outputs": [
    {
     "data": {
      "image/png": "[encoded data removed]",
      "text/plain": [
       "<Figure size 936x432 with 4 Axes>"
      ]
     },
     "metadata": {
      "needs_background": "light"
     },
     "output_type": "display_data"
    }
   ],
   "source": [
    "# 1st set of heat maps for CVotes-related columns\n",
    "\n",
    "f, axes = plt.subplots(1,2,figsize=[13,6])\n",
    "\n",
    "axes[0].set_title(\"Average Votes by Age Group among Top10 Genres - Male\")\n",
    "sns.heatmap(genre_top10[[\"CVotesU18M\",\"CVotes1829M\",\"CVotes3044M\",\"CVotes45AM\"]],cmap=\"Greens\",annot=True,fmt='g',ax=axes[0],cbar_kws={\"orientation\": \"horizontal\"})\n",
    "axes[1].set_title(\"Average Votes by Age Group among Top10 Genres - Female\")\n",
    "sns.heatmap(genre_top10[[\"CVotesU18F\",\"CVotes1829F\",\"CVotes3044F\",\"CVotes45AF\"]],cmap=\"Greens\",annot=True,fmt='g',ax=axes[1],cbar_kws={\"orientation\": \"horizontal\"})\n",
    "\n",
    "\n",
    "plt.tight_layout()"
   ]
  },
  {
   "cell_type": "markdown",
   "metadata": {},
   "source": [
    "**`Inferences:`** A few inferences that can be seen from the heatmap above is that males have voted more than females, and Sci-Fi appears to be most popular among the 18-29 age group irrespective of their gender. What more can you infer from the two heatmaps that you have plotted? Write your three inferences/observations below:\n",
    "- Inference 1: Among Male votes, Romance is the least poplular.\n",
    "- Inference 2: Crime genre is least Popular among voters under 29 for females. \n",
    "- Inference 3: And 1829 age group voted best among all age groups and irrespective of genre and gender."
   ]
  },
  {
   "cell_type": "code",
   "execution_count": 794,
   "metadata": {},
   "outputs": [
    {
     "data": {
      "image/png": "[encoded data removed]",
      "text/plain": [
       "<Figure size 972x432 with 4 Axes>"
      ]
     },
     "metadata": {
      "needs_background": "light"
     },
     "output_type": "display_data"
    }
   ],
   "source": [
    "# 2nd set of heat maps for Votes-related columns\n",
    "\n",
    "f, axes = plt.subplots(1,2,figsize=[13.5,6])\n",
    "\n",
    "axes[0].set_title(\"Average Ratings by Age Group among Top10 Genres - Male\")\n",
    "\n",
    "sns.heatmap(genre_top10[[\"VotesU18M\",\"Votes1829M\",\"Votes3044M\",\"Votes45AM\"]],cmap=\"Blues\",annot=True,fmt='g',ax=axes[0],cbar_kws={\"orientation\": \"horizontal\"})\n",
    "axes[1].set_title(\"Average Ratings by Age Group among Top10 Genres - Female\")\n",
    "\n",
    "sns.heatmap(genre_top10[[\"VotesU18F\",\"Votes1829F\",\"Votes3044F\",\"Votes45AF\"]],cmap=\"Blues\",annot=True,fmt='g',ax=axes[1],cbar_kws={\"orientation\": \"horizontal\"})\n",
    "\n",
    "\n",
    "plt.tight_layout()"
   ]
  },
  {
   "cell_type": "markdown",
   "metadata": {},
   "source": [
    "**`Inferences:`** Sci-Fi appears to be the highest rated genre in the age group of U18 for both males and females. Also, females in this age group have rated it a bit higher than the males in the same age group. What more can you infer from the two heatmaps that you have plotted? Write your three inferences/observations below:\n",
    "- Inference 1: U18M group rated best in Crime among all age groups for both malesand females and Crime genre is least rated among female voters.\n",
    "- Inference 2: Surprisingly, U18 age group gave higher rating for Romance Genre then other age group for both Males and Females. And Romance got lowest rating in the age group of 45 and above for both males and females and females rated a bit higher than males.\n",
    "- Inference 3: In U18 group, males are less likely to rate Animation than Females \n",
    "- Inference 4: Adventure and Action appears well rated in U18 Fmales than Males."
   ]
  },
  {
   "cell_type": "markdown",
   "metadata": {},
   "source": [
    "-  ###  Subtask 3.4: US vs non-US Cross Analysis\n",
    "\n",
    "The dataset contains both the US and non-US movies. Let's analyse how both the US and the non-US voters have responded to the US and the non-US movies.\n",
    "\n",
    "1. Create a column `IFUS` in the dataframe `movies`. The column `IFUS` should contain the value \"USA\" if the `Country` of the movie is \"USA\". For all other countries other than the USA, `IFUS` should contain the value `non-USA`.\n",
    "\n",
    "\n",
    "2. Now make a boxplot that shows how the number of votes from the US people i.e. `CVotesUS` is varying for the US and non-US movies. Make use of the column `IFUS` to make this plot. Similarly, make another subplot that shows how non US voters have voted for the US and non-US movies by plotting `CVotesnUS` for both the US and non-US movies. Write any of your two inferences/observations from these plots.\n",
    "\n",
    "\n",
    "3. Again do a similar analysis but with the ratings. Make a boxplot that shows how the ratings from the US people i.e. `VotesUS` is varying for the US and non-US movies. Similarly, make another subplot that shows how `VotesnUS` is varying for the US and non-US movies. Write any of your two inferences/observations from these plots.\n",
    "\n",
    "Note : Use `movies` dataframe for this subtask. Make use of this documention to format your boxplot - https://seaborn.pydata.org/generated/seaborn.boxplot.html"
   ]
  },
  {
   "cell_type": "code",
   "execution_count": 795,
   "metadata": {},
   "outputs": [],
   "source": [
    "# Creating IFUS column\n",
    "movies['IFUS']=movies.Country.apply(lambda x: 'USA' if x=='USA' else 'non-USA')\n"
   ]
  },
  {
   "cell_type": "code",
   "execution_count": 796,
   "metadata": {},
   "outputs": [
    {
     "data": {
      "image/png": "[encoded data removed]",
      "text/plain": [
       "<Figure size 432x288 with 1 Axes>"
      ]
     },
     "metadata": {
      "needs_background": "light"
     },
     "output_type": "display_data"
    }
   ],
   "source": [
    "# Box plot - 1: CVotesUS(y) vs IFUS(x)\n",
    "plt.title(\"CVotesUS vs IFUS\")\n",
    "sns.boxplot('IFUS','CVotesUS',data=movies)\n",
    "plt.show()"
   ]
  },
  {
   "cell_type": "markdown",
   "metadata": {},
   "source": [
    "**`Inferences:`** Write your two inferences/observations below:\n",
    "- Inference 1: Average votes for non-USA movies given by the US voters are less than upper limit of USA movies. And the Average votes given to USA movies are spread wide than Non-USA movies\n",
    "- Inference 2: Median votes for USA movies is bit higher than non-USA movies and there are outliers in USA movies. "
   ]
  },
  {
   "cell_type": "code",
   "execution_count": 797,
   "metadata": {},
   "outputs": [
    {
     "data": {
      "image/png": "[encoded data removed]",
      "text/plain": [
       "<Figure size 432x288 with 1 Axes>"
      ]
     },
     "metadata": {
      "needs_background": "light"
     },
     "output_type": "display_data"
    }
   ],
   "source": [
    "# Box plot - 2: VotesUS(y) vs IFUS(x)\n",
    "plt.title(\"VotesUS vs IFUS\")\n",
    "sns.boxplot('IFUS','VotesUS',data=movies)\n",
    "plt.show()"
   ]
  },
  {
   "cell_type": "markdown",
   "metadata": {},
   "source": [
    "**`Inferences:`** Write your two inferences/observations below:\n",
    "- Inference 1: 75% ratings by US voters for non-USA movies are less than median(8.0) rating of USA movies.\n",
    "- Inference 2: And ratings given to USA movies, 50 -75% ratings are more close than 25 -50% ratings. Maximum rating given to the Non-USA movies is less then the Max rating given to the USA movies and there are outliers in USA movies."
   ]
  },
  {
   "cell_type": "markdown",
   "metadata": {},
   "source": [
    "-  ###  Subtask 3.5:  Top 1000 Voters Vs Genres\n",
    "\n",
    "You might have also observed the column `CVotes1000`. This column represents the top 1000 voters on IMDb and gives the count for the number of these voters who have voted for a particular movie. Let's see how these top 1000 voters have voted across the genres. \n",
    "\n",
    "1. Sort the dataframe genre_top10 based on the value of `CVotes1000`in a descending order.\n",
    "\n",
    "2. Make a seaborn barplot for `genre` vs `CVotes1000`.\n",
    "\n",
    "3. Write your inferences. You can also try to relate it with the heatmaps you did in the previous subtasks.\n",
    "\n",
    "\n"
   ]
  },
  {
   "cell_type": "code",
   "execution_count": 798,
   "metadata": {},
   "outputs": [],
   "source": [
    "# Sorting by CVotes1000\n",
    "\n",
    "genre_top10.sort_values(by='CVotes1000',ascending=False,inplace=True)"
   ]
  },
  {
   "cell_type": "code",
   "execution_count": 799,
   "metadata": {},
   "outputs": [
    {
     "data": {
      "image/png": "[encoded data removed]",
      "text/plain": [
       "<Figure size 432x288 with 1 Axes>"
      ]
     },
     "metadata": {
      "needs_background": "light"
     },
     "output_type": "display_data"
    }
   ],
   "source": [
    "# Bar plot\n",
    "sns.barplot(genre_top10.index.values,genre_top10.CVotes1000)\n",
    "plt.title(\"Genre vs CVotes1000\")\n",
    "plt.xticks(rotation=90)\n",
    "plt.show()"
   ]
  },
  {
   "cell_type": "markdown",
   "metadata": {},
   "source": [
    "**`Inferences:`** Write your inferences/observations here. The genre Sci-Fi seems to be most popular among the top 1000 voters."
   ]
  },
  {
   "cell_type": "markdown",
   "metadata": {},
   "source": [
    "**`Checkpoint 6:`** The genre `Romance` seems to be most unpopular among the top 1000 voters."
   ]
  },
  {
   "cell_type": "markdown",
   "metadata": {},
   "source": [
    "\n",
    "\n"
   ]
  },
  {
   "cell_type": "markdown",
   "metadata": {},
   "source": [
    "With the above subtask, your assignment is over. In your free time, do explore the dataset further on your own and see what kind of other insights you can get across various other columns."
   ]
  }
 ],
 "metadata": {
  "kernelspec": {
   "display_name": "Python 3",
   "language": "python",
   "name": "python3"
  },
  "language_info": {
   "codemirror_mode": {
    "name": "ipython",
    "version": 3
   },
   "file_extension": ".py",
   "mimetype": "text/x-python",
   "name": "python",
   "nbconvert_exporter": "python",
   "pygments_lexer": "ipython3",
   "version": "3.7.6"
  }
 },
 "nbformat": 4,
 "nbformat_minor": 2
}
