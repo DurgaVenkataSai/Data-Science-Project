{
 "cells": [
  {
   "cell_type": "markdown",
   "metadata": {},
   "source": [
    "##### Problem Statement : To Predict the likely future GPS Location of a User using HMM model, Data - Geolife Trajectories of Users from China, Open Source."
   ]
  },
  {
   "cell_type": "code",
   "execution_count": 1,
   "metadata": {},
   "outputs": [],
   "source": [
    "import glob, pandas as pd, numpy as np\n",
    "\n",
    "import warnings\n",
    "warnings.filterwarnings('ignore')"
   ]
  },
  {
   "cell_type": "code",
   "execution_count": 2,
   "metadata": {},
   "outputs": [],
   "source": [
    "#data=glob.glob('C:/Users/DVSK/Downloads/Geolife Trajectories 1.3/Geolife Trajectories 1.3/Data/004/Trajectory/*.plt')"
   ]
  },
  {
   "cell_type": "code",
   "execution_count": 3,
   "metadata": {},
   "outputs": [],
   "source": [
    "#for i in data:\n",
    "    \n",
    " #       with open(i,'r') as f:\n",
    "    \n",
    "  #          lines=f.readlines()[6:]\n",
    "    \n",
    "   #         with open('C:/Users/DVSK/Desktop/wow lbz/4.csv','a+') as f1:\n",
    "        \n",
    "    #            for line in lines:\n",
    "     #               f1.write(line)"
   ]
  },
  {
   "cell_type": "markdown",
   "metadata": {},
   "source": [
    "### Geolife Trajectories Data : 4 Users"
   ]
  },
  {
   "cell_type": "code",
   "execution_count": 4,
   "metadata": {},
   "outputs": [],
   "source": [
    "data=glob.glob('C:/Users/DVSK/Desktop/wow labz/*.csv')"
   ]
  },
  {
   "cell_type": "code",
   "execution_count": 5,
   "metadata": {},
   "outputs": [
    {
     "data": {
      "text/plain": [
       "['C:/Users/DVSK/Desktop/wow labz\\\\0.csv',\n",
       " 'C:/Users/DVSK/Desktop/wow labz\\\\1.csv',\n",
       " 'C:/Users/DVSK/Desktop/wow labz\\\\2.csv',\n",
       " 'C:/Users/DVSK/Desktop/wow labz\\\\3.csv',\n",
       " 'C:/Users/DVSK/Desktop/wow labz\\\\4.csv']"
      ]
     },
     "execution_count": 5,
     "metadata": {},
     "output_type": "execute_result"
    }
   ],
   "source": [
    "data"
   ]
  },
  {
   "cell_type": "markdown",
   "metadata": {},
   "source": [
    "### Data Preprocessing"
   ]
  },
  {
   "cell_type": "code",
   "execution_count": 6,
   "metadata": {},
   "outputs": [],
   "source": [
    "df=pd.DataFrame()\n",
    "for i in range(len(data)):\n",
    "    dat=pd.read_csv(data[i],header=None)\n",
    "    dat.columns=['latitude','longitude','a','b','c','Date','Time']\n",
    "    dat.drop(columns=['a','b','c'],inplace=True)\n",
    "    dat['Pid']=i+1\n",
    "    dat['dtime']=dat.Date+' '+dat.Time\n",
    "    dat['dtime+1']=list(dat['dtime'][1:])+[list(dat['dtime'])[-1]]\n",
    "    dat['tdiff']=pd.to_datetime(dat['dtime+1'])-pd.to_datetime(dat.dtime)\n",
    "    \n",
    "    df=pd.concat([dat,df])\n",
    "df.reset_index(inplace=True,drop=True)    "
   ]
  },
  {
   "cell_type": "code",
   "execution_count": 7,
   "metadata": {
    "scrolled": true
   },
   "outputs": [],
   "source": [
    "df['time_spent']=[int(i.split(' ')[0])*24*60*60  +    int(i.split(' ')[2].split(':')[0])*60*60   +  int(i.split(' ')[2].split(':')[1])*60  +  int(i.split(' ')[2].split(':')[2].split('.')[0])          for i in df.tdiff.astype(str)]"
   ]
  },
  {
   "cell_type": "markdown",
   "metadata": {},
   "source": [
    "#### Columns created are \n",
    "- dtime+1 - from dtime column- next location time\n",
    "- tdiff - time difference between current location time and previous location time\n",
    "- time_spent - time in seconds user spent at a given location"
   ]
  },
  {
   "cell_type": "code",
   "execution_count": 8,
   "metadata": {},
   "outputs": [
    {
     "data": {
      "text/html": [
       "<div>\n",
       "<style scoped>\n",
       "    .dataframe tbody tr th:only-of-type {\n",
       "        vertical-align: middle;\n",
       "    }\n",
       "\n",
       "    .dataframe tbody tr th {\n",
       "        vertical-align: top;\n",
       "    }\n",
       "\n",
       "    .dataframe thead th {\n",
       "        text-align: right;\n",
       "    }\n",
       "</style>\n",
       "<table border=\"1\" class=\"dataframe\">\n",
       "  <thead>\n",
       "    <tr style=\"text-align: right;\">\n",
       "      <th></th>\n",
       "      <th>latitude</th>\n",
       "      <th>longitude</th>\n",
       "      <th>Date</th>\n",
       "      <th>Time</th>\n",
       "      <th>Pid</th>\n",
       "      <th>dtime</th>\n",
       "      <th>dtime+1</th>\n",
       "      <th>tdiff</th>\n",
       "      <th>time_spent</th>\n",
       "    </tr>\n",
       "  </thead>\n",
       "  <tbody>\n",
       "    <tr>\n",
       "      <th>1346710</th>\n",
       "      <td>39.984702</td>\n",
       "      <td>116.318417</td>\n",
       "      <td>2008-10-23</td>\n",
       "      <td>02:53:04</td>\n",
       "      <td>1</td>\n",
       "      <td>2008-10-23 02:53:04</td>\n",
       "      <td>2008-10-23 02:53:10</td>\n",
       "      <td>00:00:06</td>\n",
       "      <td>6</td>\n",
       "    </tr>\n",
       "    <tr>\n",
       "      <th>1346711</th>\n",
       "      <td>39.984683</td>\n",
       "      <td>116.318450</td>\n",
       "      <td>2008-10-23</td>\n",
       "      <td>02:53:10</td>\n",
       "      <td>1</td>\n",
       "      <td>2008-10-23 02:53:10</td>\n",
       "      <td>2008-10-23 02:53:15</td>\n",
       "      <td>00:00:05</td>\n",
       "      <td>5</td>\n",
       "    </tr>\n",
       "    <tr>\n",
       "      <th>1346712</th>\n",
       "      <td>39.984686</td>\n",
       "      <td>116.318417</td>\n",
       "      <td>2008-10-23</td>\n",
       "      <td>02:53:15</td>\n",
       "      <td>1</td>\n",
       "      <td>2008-10-23 02:53:15</td>\n",
       "      <td>2008-10-23 02:53:20</td>\n",
       "      <td>00:00:05</td>\n",
       "      <td>5</td>\n",
       "    </tr>\n",
       "    <tr>\n",
       "      <th>1346713</th>\n",
       "      <td>39.984688</td>\n",
       "      <td>116.318385</td>\n",
       "      <td>2008-10-23</td>\n",
       "      <td>02:53:20</td>\n",
       "      <td>1</td>\n",
       "      <td>2008-10-23 02:53:20</td>\n",
       "      <td>2008-10-23 02:53:25</td>\n",
       "      <td>00:00:05</td>\n",
       "      <td>5</td>\n",
       "    </tr>\n",
       "    <tr>\n",
       "      <th>1346714</th>\n",
       "      <td>39.984655</td>\n",
       "      <td>116.318263</td>\n",
       "      <td>2008-10-23</td>\n",
       "      <td>02:53:25</td>\n",
       "      <td>1</td>\n",
       "      <td>2008-10-23 02:53:25</td>\n",
       "      <td>2008-10-23 02:53:30</td>\n",
       "      <td>00:00:05</td>\n",
       "      <td>5</td>\n",
       "    </tr>\n",
       "    <tr>\n",
       "      <th>...</th>\n",
       "      <td>...</td>\n",
       "      <td>...</td>\n",
       "      <td>...</td>\n",
       "      <td>...</td>\n",
       "      <td>...</td>\n",
       "      <td>...</td>\n",
       "      <td>...</td>\n",
       "      <td>...</td>\n",
       "      <td>...</td>\n",
       "    </tr>\n",
       "    <tr>\n",
       "      <th>1520575</th>\n",
       "      <td>40.000403</td>\n",
       "      <td>116.327255</td>\n",
       "      <td>2009-07-05</td>\n",
       "      <td>07:44:55</td>\n",
       "      <td>1</td>\n",
       "      <td>2009-07-05 07:44:55</td>\n",
       "      <td>2009-07-05 07:45:00</td>\n",
       "      <td>00:00:05</td>\n",
       "      <td>5</td>\n",
       "    </tr>\n",
       "    <tr>\n",
       "      <th>1520576</th>\n",
       "      <td>40.000433</td>\n",
       "      <td>116.327209</td>\n",
       "      <td>2009-07-05</td>\n",
       "      <td>07:45:00</td>\n",
       "      <td>1</td>\n",
       "      <td>2009-07-05 07:45:00</td>\n",
       "      <td>2009-07-05 07:45:05</td>\n",
       "      <td>00:00:05</td>\n",
       "      <td>5</td>\n",
       "    </tr>\n",
       "    <tr>\n",
       "      <th>1520577</th>\n",
       "      <td>40.000443</td>\n",
       "      <td>116.327186</td>\n",
       "      <td>2009-07-05</td>\n",
       "      <td>07:45:05</td>\n",
       "      <td>1</td>\n",
       "      <td>2009-07-05 07:45:05</td>\n",
       "      <td>2009-07-05 07:45:10</td>\n",
       "      <td>00:00:05</td>\n",
       "      <td>5</td>\n",
       "    </tr>\n",
       "    <tr>\n",
       "      <th>1520578</th>\n",
       "      <td>40.000522</td>\n",
       "      <td>116.327132</td>\n",
       "      <td>2009-07-05</td>\n",
       "      <td>07:45:10</td>\n",
       "      <td>1</td>\n",
       "      <td>2009-07-05 07:45:10</td>\n",
       "      <td>2009-07-05 07:45:15</td>\n",
       "      <td>00:00:05</td>\n",
       "      <td>5</td>\n",
       "    </tr>\n",
       "    <tr>\n",
       "      <th>1520579</th>\n",
       "      <td>40.000543</td>\n",
       "      <td>116.327148</td>\n",
       "      <td>2009-07-05</td>\n",
       "      <td>07:45:15</td>\n",
       "      <td>1</td>\n",
       "      <td>2009-07-05 07:45:15</td>\n",
       "      <td>2009-07-05 07:45:15</td>\n",
       "      <td>00:00:00</td>\n",
       "      <td>0</td>\n",
       "    </tr>\n",
       "  </tbody>\n",
       "</table>\n",
       "<p>173870 rows × 9 columns</p>\n",
       "</div>"
      ],
      "text/plain": [
       "          latitude   longitude        Date      Time  Pid  \\\n",
       "1346710  39.984702  116.318417  2008-10-23  02:53:04    1   \n",
       "1346711  39.984683  116.318450  2008-10-23  02:53:10    1   \n",
       "1346712  39.984686  116.318417  2008-10-23  02:53:15    1   \n",
       "1346713  39.984688  116.318385  2008-10-23  02:53:20    1   \n",
       "1346714  39.984655  116.318263  2008-10-23  02:53:25    1   \n",
       "...            ...         ...         ...       ...  ...   \n",
       "1520575  40.000403  116.327255  2009-07-05  07:44:55    1   \n",
       "1520576  40.000433  116.327209  2009-07-05  07:45:00    1   \n",
       "1520577  40.000443  116.327186  2009-07-05  07:45:05    1   \n",
       "1520578  40.000522  116.327132  2009-07-05  07:45:10    1   \n",
       "1520579  40.000543  116.327148  2009-07-05  07:45:15    1   \n",
       "\n",
       "                       dtime              dtime+1    tdiff  time_spent  \n",
       "1346710  2008-10-23 02:53:04  2008-10-23 02:53:10 00:00:06           6  \n",
       "1346711  2008-10-23 02:53:10  2008-10-23 02:53:15 00:00:05           5  \n",
       "1346712  2008-10-23 02:53:15  2008-10-23 02:53:20 00:00:05           5  \n",
       "1346713  2008-10-23 02:53:20  2008-10-23 02:53:25 00:00:05           5  \n",
       "1346714  2008-10-23 02:53:25  2008-10-23 02:53:30 00:00:05           5  \n",
       "...                      ...                  ...      ...         ...  \n",
       "1520575  2009-07-05 07:44:55  2009-07-05 07:45:00 00:00:05           5  \n",
       "1520576  2009-07-05 07:45:00  2009-07-05 07:45:05 00:00:05           5  \n",
       "1520577  2009-07-05 07:45:05  2009-07-05 07:45:10 00:00:05           5  \n",
       "1520578  2009-07-05 07:45:10  2009-07-05 07:45:15 00:00:05           5  \n",
       "1520579  2009-07-05 07:45:15  2009-07-05 07:45:15 00:00:00           0  \n",
       "\n",
       "[173870 rows x 9 columns]"
      ]
     },
     "execution_count": 8,
     "metadata": {},
     "output_type": "execute_result"
    }
   ],
   "source": [
    "df[(df.time_spent>=0) & (df.Pid==1)].sort_values('dtime')"
   ]
  },
  {
   "cell_type": "markdown",
   "metadata": {},
   "source": [
    "- Taken User 4 data, and he/she spent more than 5 min at a given location"
   ]
  },
  {
   "cell_type": "code",
   "execution_count": 9,
   "metadata": {},
   "outputs": [],
   "source": [
    "data_min=df[(df.time_spent>=300) & (df.Pid==4)].sort_values('dtime')\n",
    "data_min.reset_index(drop=True,inplace=True)"
   ]
  },
  {
   "cell_type": "markdown",
   "metadata": {},
   "source": [
    "### Clustering"
   ]
  },
  {
   "cell_type": "markdown",
   "metadata": {},
   "source": [
    "- Clustered the data using DBSCAN with a sample size of 10, and metric - haversine for sperical distance calculation"
   ]
  },
  {
   "cell_type": "code",
   "execution_count": 10,
   "metadata": {
    "scrolled": true
   },
   "outputs": [
    {
     "name": "stdout",
     "output_type": "stream",
     "text": [
      "Clustered 1912 points to 22 clusters\n"
     ]
    }
   ],
   "source": [
    "from sklearn.cluster import DBSCAN\n",
    "from sklearn import metrics\n",
    "coords=data_min[['latitude','longitude']]\n",
    "kms_rad=6371.088\n",
    "epsilon=0.1/kms_rad\n",
    "db= DBSCAN(eps=epsilon, min_samples=10, algorithm=\"ball_tree\",metric=\"haversine\").fit(np.radians(coords))\n",
    "cluster_labels=db.labels_\n",
    "num_clusters=len(set(cluster_labels))\n",
    "print('Clustered ' + str(len(data_min)) + ' points to ' + str(num_clusters) + ' clusters')"
   ]
  },
  {
   "cell_type": "code",
   "execution_count": 11,
   "metadata": {},
   "outputs": [],
   "source": [
    "data_min['cluster_labels']=cluster_labels"
   ]
  },
  {
   "cell_type": "code",
   "execution_count": 12,
   "metadata": {},
   "outputs": [
    {
     "data": {
      "text/html": [
       "<div>\n",
       "<style scoped>\n",
       "    .dataframe tbody tr th:only-of-type {\n",
       "        vertical-align: middle;\n",
       "    }\n",
       "\n",
       "    .dataframe tbody tr th {\n",
       "        vertical-align: top;\n",
       "    }\n",
       "\n",
       "    .dataframe thead th {\n",
       "        text-align: right;\n",
       "    }\n",
       "</style>\n",
       "<table border=\"1\" class=\"dataframe\">\n",
       "  <thead>\n",
       "    <tr style=\"text-align: right;\">\n",
       "      <th></th>\n",
       "      <th>latitude</th>\n",
       "      <th>longitude</th>\n",
       "      <th>Date</th>\n",
       "      <th>Time</th>\n",
       "      <th>Pid</th>\n",
       "      <th>dtime</th>\n",
       "      <th>dtime+1</th>\n",
       "      <th>tdiff</th>\n",
       "      <th>time_spent</th>\n",
       "      <th>cluster_labels</th>\n",
       "    </tr>\n",
       "  </thead>\n",
       "  <tbody>\n",
       "    <tr>\n",
       "      <th>0</th>\n",
       "      <td>40.008197</td>\n",
       "      <td>116.319406</td>\n",
       "      <td>2008-10-23</td>\n",
       "      <td>18:07:54</td>\n",
       "      <td>4</td>\n",
       "      <td>2008-10-23 18:07:54</td>\n",
       "      <td>2008-10-23 18:13:14</td>\n",
       "      <td>00:05:20</td>\n",
       "      <td>320</td>\n",
       "      <td>0</td>\n",
       "    </tr>\n",
       "    <tr>\n",
       "      <th>1</th>\n",
       "      <td>40.007738</td>\n",
       "      <td>116.318767</td>\n",
       "      <td>2008-10-23</td>\n",
       "      <td>18:16:29</td>\n",
       "      <td>4</td>\n",
       "      <td>2008-10-23 18:16:29</td>\n",
       "      <td>2008-10-24 02:02:27</td>\n",
       "      <td>07:45:58</td>\n",
       "      <td>27958</td>\n",
       "      <td>0</td>\n",
       "    </tr>\n",
       "    <tr>\n",
       "      <th>2</th>\n",
       "      <td>40.000018</td>\n",
       "      <td>116.327411</td>\n",
       "      <td>2008-10-24</td>\n",
       "      <td>02:13:27</td>\n",
       "      <td>4</td>\n",
       "      <td>2008-10-24 02:13:27</td>\n",
       "      <td>2008-10-24 03:36:40</td>\n",
       "      <td>01:23:13</td>\n",
       "      <td>4993</td>\n",
       "      <td>1</td>\n",
       "    </tr>\n",
       "    <tr>\n",
       "      <th>3</th>\n",
       "      <td>40.004361</td>\n",
       "      <td>116.322342</td>\n",
       "      <td>2008-10-24</td>\n",
       "      <td>03:45:00</td>\n",
       "      <td>4</td>\n",
       "      <td>2008-10-24 03:45:00</td>\n",
       "      <td>2008-10-24 03:54:40</td>\n",
       "      <td>00:09:40</td>\n",
       "      <td>580</td>\n",
       "      <td>0</td>\n",
       "    </tr>\n",
       "    <tr>\n",
       "      <th>4</th>\n",
       "      <td>40.006146</td>\n",
       "      <td>116.325746</td>\n",
       "      <td>2008-10-24</td>\n",
       "      <td>03:57:40</td>\n",
       "      <td>4</td>\n",
       "      <td>2008-10-24 03:57:40</td>\n",
       "      <td>2008-10-24 05:13:05</td>\n",
       "      <td>01:15:25</td>\n",
       "      <td>4525</td>\n",
       "      <td>2</td>\n",
       "    </tr>\n",
       "  </tbody>\n",
       "</table>\n",
       "</div>"
      ],
      "text/plain": [
       "    latitude   longitude        Date      Time  Pid                dtime  \\\n",
       "0  40.008197  116.319406  2008-10-23  18:07:54    4  2008-10-23 18:07:54   \n",
       "1  40.007738  116.318767  2008-10-23  18:16:29    4  2008-10-23 18:16:29   \n",
       "2  40.000018  116.327411  2008-10-24  02:13:27    4  2008-10-24 02:13:27   \n",
       "3  40.004361  116.322342  2008-10-24  03:45:00    4  2008-10-24 03:45:00   \n",
       "4  40.006146  116.325746  2008-10-24  03:57:40    4  2008-10-24 03:57:40   \n",
       "\n",
       "               dtime+1    tdiff  time_spent  cluster_labels  \n",
       "0  2008-10-23 18:13:14 00:05:20         320               0  \n",
       "1  2008-10-24 02:02:27 07:45:58       27958               0  \n",
       "2  2008-10-24 03:36:40 01:23:13        4993               1  \n",
       "3  2008-10-24 03:54:40 00:09:40         580               0  \n",
       "4  2008-10-24 05:13:05 01:15:25        4525               2  "
      ]
     },
     "execution_count": 12,
     "metadata": {},
     "output_type": "execute_result"
    }
   ],
   "source": [
    "data_min.head()"
   ]
  },
  {
   "cell_type": "code",
   "execution_count": 13,
   "metadata": {},
   "outputs": [
    {
     "data": {
      "text/plain": [
       "1912"
      ]
     },
     "execution_count": 13,
     "metadata": {},
     "output_type": "execute_result"
    }
   ],
   "source": [
    "len(cluster_labels)"
   ]
  },
  {
   "cell_type": "markdown",
   "metadata": {},
   "source": [
    "- Calculating Cluster Centroids based on Cluster_lables."
   ]
  },
  {
   "cell_type": "code",
   "execution_count": 14,
   "metadata": {},
   "outputs": [],
   "source": [
    "p=data_min.groupby('cluster_labels').agg({'latitude':np.mean}).reset_index()\n",
    "q=data_min.groupby('cluster_labels').agg({'longitude':np.mean}).reset_index()"
   ]
  },
  {
   "cell_type": "code",
   "execution_count": 15,
   "metadata": {},
   "outputs": [],
   "source": [
    "cc=pd.merge(p,q,'inner','cluster_labels')"
   ]
  },
  {
   "cell_type": "code",
   "execution_count": 16,
   "metadata": {},
   "outputs": [
    {
     "data": {
      "text/html": [
       "<div>\n",
       "<style scoped>\n",
       "    .dataframe tbody tr th:only-of-type {\n",
       "        vertical-align: middle;\n",
       "    }\n",
       "\n",
       "    .dataframe tbody tr th {\n",
       "        vertical-align: top;\n",
       "    }\n",
       "\n",
       "    .dataframe thead th {\n",
       "        text-align: right;\n",
       "    }\n",
       "</style>\n",
       "<table border=\"1\" class=\"dataframe\">\n",
       "  <thead>\n",
       "    <tr style=\"text-align: right;\">\n",
       "      <th></th>\n",
       "      <th>cluster_labels</th>\n",
       "      <th>latitude</th>\n",
       "      <th>longitude</th>\n",
       "    </tr>\n",
       "  </thead>\n",
       "  <tbody>\n",
       "    <tr>\n",
       "      <th>0</th>\n",
       "      <td>-1</td>\n",
       "      <td>38.349288</td>\n",
       "      <td>117.266589</td>\n",
       "    </tr>\n",
       "    <tr>\n",
       "      <th>1</th>\n",
       "      <td>0</td>\n",
       "      <td>40.008191</td>\n",
       "      <td>116.320596</td>\n",
       "    </tr>\n",
       "    <tr>\n",
       "      <th>2</th>\n",
       "      <td>1</td>\n",
       "      <td>40.000230</td>\n",
       "      <td>116.327253</td>\n",
       "    </tr>\n",
       "    <tr>\n",
       "      <th>3</th>\n",
       "      <td>2</td>\n",
       "      <td>40.005972</td>\n",
       "      <td>116.325794</td>\n",
       "    </tr>\n",
       "    <tr>\n",
       "      <th>4</th>\n",
       "      <td>3</td>\n",
       "      <td>39.991185</td>\n",
       "      <td>116.327828</td>\n",
       "    </tr>\n",
       "  </tbody>\n",
       "</table>\n",
       "</div>"
      ],
      "text/plain": [
       "   cluster_labels   latitude   longitude\n",
       "0              -1  38.349288  117.266589\n",
       "1               0  40.008191  116.320596\n",
       "2               1  40.000230  116.327253\n",
       "3               2  40.005972  116.325794\n",
       "4               3  39.991185  116.327828"
      ]
     },
     "execution_count": 16,
     "metadata": {},
     "output_type": "execute_result"
    }
   ],
   "source": [
    "cc.head()"
   ]
  },
  {
   "cell_type": "code",
   "execution_count": 17,
   "metadata": {},
   "outputs": [],
   "source": [
    "#help(hmm)"
   ]
  },
  {
   "cell_type": "code",
   "execution_count": 18,
   "metadata": {},
   "outputs": [
    {
     "data": {
      "text/plain": [
       "22"
      ]
     },
     "execution_count": 18,
     "metadata": {},
     "output_type": "execute_result"
    }
   ],
   "source": [
    "# unique clusters\n",
    "a=len(data_min['cluster_labels'].unique())\n",
    "a"
   ]
  },
  {
   "cell_type": "code",
   "execution_count": 19,
   "metadata": {},
   "outputs": [],
   "source": [
    "X=data_min['cluster_labels'].values"
   ]
  },
  {
   "cell_type": "code",
   "execution_count": 20,
   "metadata": {},
   "outputs": [
    {
     "data": {
      "text/plain": [
       "1912"
      ]
     },
     "execution_count": 20,
     "metadata": {},
     "output_type": "execute_result"
    }
   ],
   "source": [
    "len(X)"
   ]
  },
  {
   "cell_type": "markdown",
   "metadata": {},
   "source": [
    "- Took first 1900 cluster values for train and remaining 12 for test"
   ]
  },
  {
   "cell_type": "code",
   "execution_count": 21,
   "metadata": {},
   "outputs": [
    {
     "data": {
      "text/plain": [
       "1900"
      ]
     },
     "execution_count": 21,
     "metadata": {},
     "output_type": "execute_result"
    }
   ],
   "source": [
    "len(X[:1900])"
   ]
  },
  {
   "cell_type": "markdown",
   "metadata": {},
   "source": [
    "### Model"
   ]
  },
  {
   "cell_type": "code",
   "execution_count": 22,
   "metadata": {},
   "outputs": [
    {
     "name": "stdout",
     "output_type": "stream",
     "text": [
      "(1900,)\n"
     ]
    }
   ],
   "source": [
    "\n",
    "from hmmlearn import hmm\n",
    "from sklearn import preprocessing\n",
    "\n",
    "enc = preprocessing.LabelEncoder()\n",
    "classes =enc.fit(X[:1900]).transform(X[:1900])\n",
    "\n",
    "print(classes.shape)\n",
    "classes = np.reshape(classes,[len(classes),1])\n",
    "model = hmm.MultinomialHMM(a)\n",
    "hidden_states = model.fit(classes)  \n",
    "y_pred,z= model.sample(12)\n",
    "#y_sub=np.around(y_sub)\n",
    "y_pred=enc.inverse_transform(y_pred)\n",
    "\n",
    "\n"
   ]
  },
  {
   "cell_type": "markdown",
   "metadata": {},
   "source": [
    "- Hidden Markov Model is Used to predict the future location of user by 22 cluster lables."
   ]
  },
  {
   "cell_type": "code",
   "execution_count": 23,
   "metadata": {},
   "outputs": [
    {
     "data": {
      "text/plain": [
       "array([-1,  1,  3,  1,  0,  1,  1, -1, -1, -1, -1, -1], dtype=int64)"
      ]
     },
     "execution_count": 23,
     "metadata": {},
     "output_type": "execute_result"
    }
   ],
   "source": [
    "X[1900:]"
   ]
  },
  {
   "cell_type": "code",
   "execution_count": 24,
   "metadata": {},
   "outputs": [
    {
     "data": {
      "text/plain": [
       "array([ 1,  1,  1, -1, 18,  1,  3,  1,  0,  0,  0, 18], dtype=int64)"
      ]
     },
     "execution_count": 24,
     "metadata": {},
     "output_type": "execute_result"
    }
   ],
   "source": [
    "y_pred"
   ]
  },
  {
   "cell_type": "code",
   "execution_count": 25,
   "metadata": {},
   "outputs": [
    {
     "data": {
      "text/plain": [
       "0.16666666666666666"
      ]
     },
     "execution_count": 25,
     "metadata": {},
     "output_type": "execute_result"
    }
   ],
   "source": [
    "metrics.accuracy_score(X[1900:],y_pred)"
   ]
  },
  {
   "cell_type": "markdown",
   "metadata": {},
   "source": [
    "- Resulted with the accuracy of 16%"
   ]
  },
  {
   "cell_type": "code",
   "execution_count": 26,
   "metadata": {},
   "outputs": [
    {
     "data": {
      "text/plain": [
       "array([[0, 3, 2, 0, 1],\n",
       "       [0, 0, 0, 0, 1],\n",
       "       [1, 0, 2, 1, 0],\n",
       "       [0, 0, 1, 0, 0],\n",
       "       [0, 0, 0, 0, 0]], dtype=int64)"
      ]
     },
     "execution_count": 26,
     "metadata": {},
     "output_type": "execute_result"
    }
   ],
   "source": [
    "metrics.confusion_matrix(X[1900:],y_pred)"
   ]
  },
  {
   "cell_type": "code",
   "execution_count": 27,
   "metadata": {},
   "outputs": [
    {
     "data": {
      "text/plain": [
       "0.14814814814814817"
      ]
     },
     "execution_count": 27,
     "metadata": {},
     "output_type": "execute_result"
    }
   ],
   "source": [
    "metrics.f1_score(X[1900:],y_pred,average='weighted')"
   ]
  },
  {
   "cell_type": "markdown",
   "metadata": {},
   "source": [
    "- F1 Score - 14%"
   ]
  },
  {
   "cell_type": "code",
   "execution_count": 28,
   "metadata": {},
   "outputs": [
    {
     "data": {
      "text/html": [
       "<div>\n",
       "<style scoped>\n",
       "    .dataframe tbody tr th:only-of-type {\n",
       "        vertical-align: middle;\n",
       "    }\n",
       "\n",
       "    .dataframe tbody tr th {\n",
       "        vertical-align: top;\n",
       "    }\n",
       "\n",
       "    .dataframe thead th {\n",
       "        text-align: right;\n",
       "    }\n",
       "</style>\n",
       "<table border=\"1\" class=\"dataframe\">\n",
       "  <thead>\n",
       "    <tr style=\"text-align: right;\">\n",
       "      <th></th>\n",
       "      <th>cluster_labels</th>\n",
       "      <th>latitude</th>\n",
       "      <th>longitude</th>\n",
       "    </tr>\n",
       "  </thead>\n",
       "  <tbody>\n",
       "    <tr>\n",
       "      <th>0</th>\n",
       "      <td>-1</td>\n",
       "      <td>38.349288</td>\n",
       "      <td>117.266589</td>\n",
       "    </tr>\n",
       "    <tr>\n",
       "      <th>1</th>\n",
       "      <td>0</td>\n",
       "      <td>40.008191</td>\n",
       "      <td>116.320596</td>\n",
       "    </tr>\n",
       "    <tr>\n",
       "      <th>2</th>\n",
       "      <td>1</td>\n",
       "      <td>40.000230</td>\n",
       "      <td>116.327253</td>\n",
       "    </tr>\n",
       "    <tr>\n",
       "      <th>3</th>\n",
       "      <td>2</td>\n",
       "      <td>40.005972</td>\n",
       "      <td>116.325794</td>\n",
       "    </tr>\n",
       "    <tr>\n",
       "      <th>4</th>\n",
       "      <td>3</td>\n",
       "      <td>39.991185</td>\n",
       "      <td>116.327828</td>\n",
       "    </tr>\n",
       "  </tbody>\n",
       "</table>\n",
       "</div>"
      ],
      "text/plain": [
       "   cluster_labels   latitude   longitude\n",
       "0              -1  38.349288  117.266589\n",
       "1               0  40.008191  116.320596\n",
       "2               1  40.000230  116.327253\n",
       "3               2  40.005972  116.325794\n",
       "4               3  39.991185  116.327828"
      ]
     },
     "execution_count": 28,
     "metadata": {},
     "output_type": "execute_result"
    }
   ],
   "source": [
    "cc.head()"
   ]
  },
  {
   "cell_type": "code",
   "execution_count": 29,
   "metadata": {},
   "outputs": [],
   "source": [
    "import gmplot\n",
    "\n",
    "gmap = gmplot.GoogleMapPlotter(sum(data_min.latitude)/len(data_min.latitude), sum(data_min.longitude)/len(data_min.longitude),6)\n",
    "gmap.scatter(data_min.latitude, data_min.longitude,color='green', size=5,marker=True)\n",
    "gmap.scatter(cc.latitude, cc.longitude,color='blue', size=30,label=['cc']*len(cc.longitude),marker=True)\n",
    "gmap.scatter(cc[cc.cluster_labels==(y_pred[0])].latitude, cc[cc.cluster_labels==(y_pred[0])].longitude,color='orange', size=20,marker=True,tittle=['User 4 Next Location'],label=['4'])\n",
    "\n",
    "gmap.draw(\"user004_map.html\")\n"
   ]
  },
  {
   "cell_type": "code",
   "execution_count": null,
   "metadata": {},
   "outputs": [],
   "source": []
  }
 ],
 "metadata": {
  "kernelspec": {
   "display_name": "Python 3",
   "language": "python",
   "name": "python3"
  },
  "language_info": {
   "codemirror_mode": {
    "name": "ipython",
    "version": 3
   },
   "file_extension": ".py",
   "mimetype": "text/x-python",
   "name": "python",
   "nbconvert_exporter": "python",
   "pygments_lexer": "ipython3",
   "version": "3.8.3"
  }
 },
 "nbformat": 4,
 "nbformat_minor": 4
}
